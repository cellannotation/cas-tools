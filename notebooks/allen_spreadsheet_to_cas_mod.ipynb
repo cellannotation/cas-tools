{
 "cells": [
  {
   "cell_type": "markdown",
   "id": "3a6a4325",
   "metadata": {},
   "source": [
    "### Converting an Allen-Style Taxonomy Spreadsheet to CAS Format  \n",
    "\n",
    "This notebook demonstrates how to convert an Allen-style taxonomy spreadsheet into the CAS (Cell Annotation Schema) format. The process includes the following steps:  \n",
    "\n",
    "1. **Generate CAS**: Convert the spreadsheet data into the CAS format.\n",
    "2. **Validate CAS against h5ad**: Compare CAS and AnnData to check if the annotations and the hierarchy are the same.\n",
    "3. **Populate IDs**: Add corresponding Cell IDs to the CAS from a related Anndata (h5ad) file.  \n",
    "4. **Merge Data**: Integrate the updated CAS into the `var` field of the Anndata object.  \n",
    "\n",
    "This workflow uses a subset of the WMBO dataset. Example Allen-style spreadsheet is derived from the `CB Glut (CS20230722_CLAS_29)` subset of the Mouse Cell-type annotations (https://www.nature.com/articles/s41586-023-06812-z#Sec49, Table 7)\n",
    "\n",
    "This notebook demonstrates how to carry out these steps in Python, but most can also be done via the [cas-tools command-line interface](https://cellannotation.github.io/cas-tools/cli.html)."
   ]
  },
  {
   "cell_type": "markdown",
   "id": "86f2cbd0",
   "metadata": {},
   "source": [
    "### How to Run the Notebooks\n",
    "\n",
    "For detailed instructions on setting up and running the notebooks, please refer to the [README.md](https://github.com/cellannotation/cas-tools/blob/main/notebooks/README.md) in the notebooks directory.\n"
   ]
  },
  {
   "cell_type": "markdown",
   "id": "03a054ec",
   "metadata": {},
   "source": [
    "#### Example of an Allen-Style Spreadsheet  \n",
    "\n",
    "To keep things simple, we use the `CB Glut (CS20230722_CLAS_29)` subset from the Mouse Cell-Type Annotations dataset (refer to [Nature article, Supplementary Table 7](https://www.nature.com/articles/s41586-023-06812-z#Sec49))."
   ]
  },
  {
   "cell_type": "code",
   "execution_count": 2,
   "id": "ce31903f",
   "metadata": {},
   "outputs": [
    {
     "data": {
      "text/html": [
       "<div>\n",
       "<style scoped>\n",
       "    .dataframe tbody tr th:only-of-type {\n",
       "        vertical-align: middle;\n",
       "    }\n",
       "\n",
       "    .dataframe tbody tr th {\n",
       "        vertical-align: top;\n",
       "    }\n",
       "\n",
       "    .dataframe thead th {\n",
       "        text-align: right;\n",
       "    }\n",
       "</style>\n",
       "<table border=\"1\" class=\"dataframe\">\n",
       "  <thead>\n",
       "    <tr style=\"text-align: right;\">\n",
       "      <th></th>\n",
       "      <th>cluster_id</th>\n",
       "      <th>cluster</th>\n",
       "      <th>supertype</th>\n",
       "      <th>subclass</th>\n",
       "      <th>class</th>\n",
       "      <th>neighborhood</th>\n",
       "      <th>anatomical_annotation</th>\n",
       "      <th>notes</th>\n",
       "      <th>CCF_broad.freq</th>\n",
       "      <th>CCF_acronym.freq</th>\n",
       "      <th>...</th>\n",
       "      <th>CTX.subclass_id</th>\n",
       "      <th>CTX.subclass_id.1</th>\n",
       "      <th>CTX.neighborhood_id</th>\n",
       "      <th>CTX.neighborhood_label</th>\n",
       "      <th>CTX.size</th>\n",
       "      <th>taxonomy_id</th>\n",
       "      <th>cell_set_accession.cluster</th>\n",
       "      <th>cell_set_accession.supertype</th>\n",
       "      <th>cell_set_accession.subclass</th>\n",
       "      <th>cell_set_accession.class</th>\n",
       "    </tr>\n",
       "  </thead>\n",
       "  <tbody>\n",
       "    <tr>\n",
       "      <th>0</th>\n",
       "      <td>5197</td>\n",
       "      <td>5197 CB Granule Glut_1</td>\n",
       "      <td>1154 CB Granule Glut_1</td>\n",
       "      <td>314 CB Granule Glut</td>\n",
       "      <td>29 CB Glut</td>\n",
       "      <td>NN-IMN-GC</td>\n",
       "      <td>DCO VCO</td>\n",
       "      <td>NaN</td>\n",
       "      <td>MY:0.35,CB:0.33,NA:0.26</td>\n",
       "      <td>DCO:0.19,FL:0.11,arb:0.09,VCO:0.09,DN:0.08,PFL...</td>\n",
       "      <td>...</td>\n",
       "      <td>NaN</td>\n",
       "      <td>NaN</td>\n",
       "      <td>NaN</td>\n",
       "      <td>NaN</td>\n",
       "      <td>NaN</td>\n",
       "      <td>CCN202307220</td>\n",
       "      <td>CS20230722_CLUS_5197</td>\n",
       "      <td>CS20230722_SUPT_1154</td>\n",
       "      <td>CS20230722_SUBC_314</td>\n",
       "      <td>CS20230722_CLAS_29</td>\n",
       "    </tr>\n",
       "    <tr>\n",
       "      <th>1</th>\n",
       "      <td>5198</td>\n",
       "      <td>5198 CB Granule Glut_1</td>\n",
       "      <td>1154 CB Granule Glut_1</td>\n",
       "      <td>314 CB Granule Glut</td>\n",
       "      <td>29 CB Glut</td>\n",
       "      <td>NN-IMN-GC</td>\n",
       "      <td>DCO VCO</td>\n",
       "      <td>NaN</td>\n",
       "      <td>CB:0.56,MY:0.24,NA:0.19</td>\n",
       "      <td>FL:0.25,PFL:0.17,DCO:0.13,VCO:0.09,arb:0.08,NA...</td>\n",
       "      <td>...</td>\n",
       "      <td>NaN</td>\n",
       "      <td>NaN</td>\n",
       "      <td>NaN</td>\n",
       "      <td>NaN</td>\n",
       "      <td>NaN</td>\n",
       "      <td>CCN202307220</td>\n",
       "      <td>CS20230722_CLUS_5198</td>\n",
       "      <td>CS20230722_SUPT_1154</td>\n",
       "      <td>CS20230722_SUBC_314</td>\n",
       "      <td>CS20230722_CLAS_29</td>\n",
       "    </tr>\n",
       "    <tr>\n",
       "      <th>2</th>\n",
       "      <td>5199</td>\n",
       "      <td>5199 CB Granule Glut_1</td>\n",
       "      <td>1154 CB Granule Glut_1</td>\n",
       "      <td>314 CB Granule Glut</td>\n",
       "      <td>29 CB Glut</td>\n",
       "      <td>NN-IMN-GC</td>\n",
       "      <td>DCO VCO</td>\n",
       "      <td>NaN</td>\n",
       "      <td>MY:0.4,CB:0.38,NA:0.18</td>\n",
       "      <td>DCO:0.29,DN:0.12,arb:0.09,FL:0.09,PFL:0.06,VCO...</td>\n",
       "      <td>...</td>\n",
       "      <td>NaN</td>\n",
       "      <td>NaN</td>\n",
       "      <td>NaN</td>\n",
       "      <td>NaN</td>\n",
       "      <td>NaN</td>\n",
       "      <td>CCN202307220</td>\n",
       "      <td>CS20230722_CLUS_5199</td>\n",
       "      <td>CS20230722_SUPT_1154</td>\n",
       "      <td>CS20230722_SUBC_314</td>\n",
       "      <td>CS20230722_CLAS_29</td>\n",
       "    </tr>\n",
       "    <tr>\n",
       "      <th>3</th>\n",
       "      <td>5200</td>\n",
       "      <td>5200 CB Granule Glut_2</td>\n",
       "      <td>1155 CB Granule Glut_2</td>\n",
       "      <td>314 CB Granule Glut</td>\n",
       "      <td>29 CB Glut</td>\n",
       "      <td>NN-IMN-GC</td>\n",
       "      <td>NOD PFL</td>\n",
       "      <td>NaN</td>\n",
       "      <td>CB:0.77,NA:0.22</td>\n",
       "      <td>PFL:0.17,NOD:0.17,FL:0.13,NA:0.11,arb:0.1,UVU:...</td>\n",
       "      <td>...</td>\n",
       "      <td>NaN</td>\n",
       "      <td>NaN</td>\n",
       "      <td>NaN</td>\n",
       "      <td>NaN</td>\n",
       "      <td>NaN</td>\n",
       "      <td>CCN202307220</td>\n",
       "      <td>CS20230722_CLUS_5200</td>\n",
       "      <td>CS20230722_SUPT_1155</td>\n",
       "      <td>CS20230722_SUBC_314</td>\n",
       "      <td>CS20230722_CLAS_29</td>\n",
       "    </tr>\n",
       "  </tbody>\n",
       "</table>\n",
       "<p>4 rows × 40 columns</p>\n",
       "</div>"
      ],
      "text/plain": [
       "   cluster_id                 cluster               supertype  \\\n",
       "0        5197  5197 CB Granule Glut_1  1154 CB Granule Glut_1   \n",
       "1        5198  5198 CB Granule Glut_1  1154 CB Granule Glut_1   \n",
       "2        5199  5199 CB Granule Glut_1  1154 CB Granule Glut_1   \n",
       "3        5200  5200 CB Granule Glut_2  1155 CB Granule Glut_2   \n",
       "\n",
       "              subclass       class neighborhood anatomical_annotation  notes  \\\n",
       "0  314 CB Granule Glut  29 CB Glut    NN-IMN-GC               DCO VCO    NaN   \n",
       "1  314 CB Granule Glut  29 CB Glut    NN-IMN-GC               DCO VCO    NaN   \n",
       "2  314 CB Granule Glut  29 CB Glut    NN-IMN-GC               DCO VCO    NaN   \n",
       "3  314 CB Granule Glut  29 CB Glut    NN-IMN-GC               NOD PFL    NaN   \n",
       "\n",
       "            CCF_broad.freq                                   CCF_acronym.freq  \\\n",
       "0  MY:0.35,CB:0.33,NA:0.26  DCO:0.19,FL:0.11,arb:0.09,VCO:0.09,DN:0.08,PFL...   \n",
       "1  CB:0.56,MY:0.24,NA:0.19  FL:0.25,PFL:0.17,DCO:0.13,VCO:0.09,arb:0.08,NA...   \n",
       "2   MY:0.4,CB:0.38,NA:0.18  DCO:0.29,DN:0.12,arb:0.09,FL:0.09,PFL:0.06,VCO...   \n",
       "3          CB:0.77,NA:0.22  PFL:0.17,NOD:0.17,FL:0.13,NA:0.11,arb:0.1,UVU:...   \n",
       "\n",
       "   ...  CTX.subclass_id  CTX.subclass_id.1  CTX.neighborhood_id  \\\n",
       "0  ...              NaN                NaN                  NaN   \n",
       "1  ...              NaN                NaN                  NaN   \n",
       "2  ...              NaN                NaN                  NaN   \n",
       "3  ...              NaN                NaN                  NaN   \n",
       "\n",
       "   CTX.neighborhood_label  CTX.size   taxonomy_id  cell_set_accession.cluster  \\\n",
       "0                     NaN       NaN  CCN202307220        CS20230722_CLUS_5197   \n",
       "1                     NaN       NaN  CCN202307220        CS20230722_CLUS_5198   \n",
       "2                     NaN       NaN  CCN202307220        CS20230722_CLUS_5199   \n",
       "3                     NaN       NaN  CCN202307220        CS20230722_CLUS_5200   \n",
       "\n",
       "   cell_set_accession.supertype cell_set_accession.subclass  \\\n",
       "0          CS20230722_SUPT_1154         CS20230722_SUBC_314   \n",
       "1          CS20230722_SUPT_1154         CS20230722_SUBC_314   \n",
       "2          CS20230722_SUPT_1154         CS20230722_SUBC_314   \n",
       "3          CS20230722_SUPT_1155         CS20230722_SUBC_314   \n",
       "\n",
       "  cell_set_accession.class  \n",
       "0       CS20230722_CLAS_29  \n",
       "1       CS20230722_CLAS_29  \n",
       "2       CS20230722_CLAS_29  \n",
       "3       CS20230722_CLAS_29  \n",
       "\n",
       "[4 rows x 40 columns]"
      ]
     },
     "execution_count": 2,
     "metadata": {},
     "output_type": "execute_result"
    }
   ],
   "source": [
    "import pandas as pd\n",
    "\n",
    "pd.read_csv(\"./data/wmb_class_29_annotation.tsv\", delimiter='\\t')[:4]"
   ]
  },
  {
   "cell_type": "markdown",
   "id": "bae3d3ab",
   "metadata": {},
   "source": [
    "#### Import Spreadsheet into CAS  \n",
    "\n",
    "Import assumes that the source spreadsheet will have:\n",
    "\n",
    "* One row per cluster (where cluster is the most granular cell set)\n",
    "* A column containing cluster_ids\n",
    "* A spreadsheet representation of hierarchy with columns for each leve in the hierarchy.\n",
    "* A set of columns specific to the sheet (author categories)\n",
    "\n",
    "To import an Allen-style spreadsheet into the CAS, we need a simple mapping file. This includes some general metadata and specification of heirarchy fields.  Rank refers to the level of a heirarchy field - with 0 being the most granular. The mapping file must specify cluster_id and cluster_name require specific field types.  All other hierarchy fields are typed as cell set.  Here is a configuration for our example sheet:"
   ]
  },
  {
   "cell_type": "code",
   "execution_count": 29,
   "id": "51e53b0c",
   "metadata": {},
   "outputs": [
    {
     "name": "stdout",
     "output_type": "stream",
     "text": [
      "taxonomy_id: CS20230722\n",
      "brain_region_names:\n",
      "  - Whole Brain\n",
      "species_names:\n",
      "  - Mouse\n",
      "author_name: Hongkui Zeng\n",
      "title: Whole Mouse Brain taxonomy\n",
      "\n",
      "fields:\n",
      "  - column_name: cluster_id\n",
      "    column_type: cluster_id\n",
      "    rank: 0\n",
      "\n",
      "  - column_name: cluster\n",
      "    column_type: cluster_name\n",
      "    rank: 0\n",
      "\n",
      "  - column_name: supertype\n",
      "    column_type: cell_set\n",
      "    rank: 1\n",
      "\n",
      "  - column_name: subclass\n",
      "    column_type: cell_set\n",
      "\u001b[7m./data/wmb_ingestion_config.yaml\u001b[m\u001b[K\u0007\u001b[H\u001b[2J\u001b[H\u001b[H\u001b[2J\u001b[Htaxonomy_id: CS20230722\n",
      "brain_region_names:\n",
      "  - Whole Brain\n",
      "species_names:\n",
      "  - Mouse\n",
      "author_name: Hongkui Zeng\n",
      "title: Whole Mouse Brain taxonomy\n",
      "\n",
      "fields:\n",
      "  - column_name: cluster_id\n",
      "    column_type: cluster_id\n",
      "    rank: 0\n",
      "\n",
      "  - column_name: cluster\n",
      "    column_type: cluster_name\n",
      "    rank: 0\n",
      "\n",
      "  - column_name: supertype\n",
      "    column_type: cell_set\n",
      "    rank: 1\n",
      "\n",
      "  - column_name: subclass\n",
      "    column_type: cell_set\n",
      "\u001b[K    rank: 2\n",
      ":\u001b[K"
     ]
    }
   ],
   "source": [
    "!less ./data/wmb_ingestion_config.yaml"
   ]
  },
  {
   "cell_type": "code",
   "execution_count": null,
   "id": "a0ca86f0",
   "metadata": {
    "scrolled": true
   },
   "outputs": [],
   "source": [
    "# Import to CAS\n",
    "\n",
    "import json\n",
    "from cas.ingest.ingest_user_table import ingest_data, ingest_user_data\n",
    "\n",
    "cas_data = ingest_user_data(\"./data/wmb_class_29_annotation.tsv\", \"./data/wmb_ingestion_config.yaml\", True)\n",
    "wmb_class_29_cas = cas_data.as_dictionary()\n",
    "print(json.dumps(wmb_class_29_cas, indent=2)[:2000])\n"
   ]
  },
  {
   "cell_type": "code",
   "execution_count": null,
   "id": "f6e80066",
   "metadata": {},
   "outputs": [],
   "source": [
    "# Or we can use reporting tools from cas-tools to view dataframes:\n",
    "\n",
    "from cas import reports\n",
    "reports.get_all_annotations(wmb_class_29_cas)"
   ]
  },
  {
   "cell_type": "markdown",
   "id": "50fadcdd",
   "metadata": {},
   "source": [
    "#### Retrieve AnnData File for `CB Glut`\n",
    "\n",
    "Assumed starting point - an AnnData file with annotations corresponding to the hierarchy in the spreadsheet.\n",
    "\n",
    "Download the AnnData file corresponding to `CB Glut (CS20230722_CLAS_29)`. The original [WMB-10Xv2](https://allen-brain-cell-atlas.s3.us-west-2.amazonaws.com/index.html#expression_matrices/WMB-10Xv2/20230630/) and [WMB-10Xv3](https://allen-brain-cell-atlas.s3.us-west-2.amazonaws.com/index.html#expression_matrices/WMB-10Xv3/20230630/) AnnData files were generated based on dissection.  \n",
    "\n",
    "These files were merged and then split into 34 top-level classes. The resulting AnnData files for each class can be accessed at the following links:  \n",
    "- [Class 01](http://cellular-semantics.cog.sanger.ac.uk/public/merged_CS20230722_CLAS_01.h5ad)  \n",
    "- [Class 02](http://cellular-semantics.cog.sanger.ac.uk/public/merged_CS20230722_CLAS_02.h5ad)  \n",
    "- ...  \n",
    "- [Class 34](http://cellular-semantics.cog.sanger.ac.uk/public/merged_CS20230722_CLAS_34.h5ad)  \n",
    "\n",
    "The file specific to `CB Glut` is included in this collection."
   ]
  },
  {
   "cell_type": "code",
   "execution_count": 7,
   "id": "76f85eea",
   "metadata": {},
   "outputs": [
    {
     "name": "stdout",
     "output_type": "stream",
     "text": [
      "--2025-02-11 16:21:30--  http://cellular-semantics.cog.sanger.ac.uk/public/merged_CS20230722_CLAS_29.h5ad\n",
      "Resolving cellular-semantics.cog.sanger.ac.uk (cellular-semantics.cog.sanger.ac.uk)... 193.62.203.62, 193.62.203.61, 193.62.203.63\n",
      "Connecting to cellular-semantics.cog.sanger.ac.uk (cellular-semantics.cog.sanger.ac.uk)|193.62.203.62|:80... connected.\n",
      "HTTP request sent, awaiting response... 301 Moved Permanently\n",
      "Location: https://cellular-semantics.cog.sanger.ac.uk/public/merged_CS20230722_CLAS_29.h5ad [following]\n",
      "--2025-02-11 16:21:30--  https://cellular-semantics.cog.sanger.ac.uk/public/merged_CS20230722_CLAS_29.h5ad\n",
      "Connecting to cellular-semantics.cog.sanger.ac.uk (cellular-semantics.cog.sanger.ac.uk)|193.62.203.62|:443... connected.\n",
      "HTTP request sent, awaiting response... 304 Not Modified\n",
      "File ‘merged_CS20230722_CLAS_29.h5ad’ not modified on server. Omitting download.\n",
      "\n"
     ]
    }
   ],
   "source": [
    "!wget -N http://cellular-semantics.cog.sanger.ac.uk/public/merged_CS20230722_CLAS_29.h5ad"
   ]
  },
  {
   "cell_type": "code",
   "execution_count": 8,
   "id": "65657c9f",
   "metadata": {},
   "outputs": [
    {
     "data": {
      "text/html": [
       "<div>\n",
       "<style scoped>\n",
       "    .dataframe tbody tr th:only-of-type {\n",
       "        vertical-align: middle;\n",
       "    }\n",
       "\n",
       "    .dataframe tbody tr th {\n",
       "        vertical-align: top;\n",
       "    }\n",
       "\n",
       "    .dataframe thead th {\n",
       "        text-align: right;\n",
       "    }\n",
       "</style>\n",
       "<table border=\"1\" class=\"dataframe\">\n",
       "  <thead>\n",
       "    <tr style=\"text-align: right;\">\n",
       "      <th></th>\n",
       "      <th>cell_barcode</th>\n",
       "      <th>library_label</th>\n",
       "      <th>tissue</th>\n",
       "      <th>tissue_ontology_term_id</th>\n",
       "      <th>neurotransmitter</th>\n",
       "      <th>class</th>\n",
       "      <th>subclass</th>\n",
       "      <th>supertype</th>\n",
       "      <th>cluster</th>\n",
       "      <th>organism</th>\n",
       "      <th>disease</th>\n",
       "      <th>assay</th>\n",
       "    </tr>\n",
       "    <tr>\n",
       "      <th>cell_label</th>\n",
       "      <th></th>\n",
       "      <th></th>\n",
       "      <th></th>\n",
       "      <th></th>\n",
       "      <th></th>\n",
       "      <th></th>\n",
       "      <th></th>\n",
       "      <th></th>\n",
       "      <th></th>\n",
       "      <th></th>\n",
       "      <th></th>\n",
       "      <th></th>\n",
       "    </tr>\n",
       "  </thead>\n",
       "  <tbody>\n",
       "    <tr>\n",
       "      <th>AAACCCAAGAACAAGG-472_A05</th>\n",
       "      <td>AAACCCAAGAACAAGG</td>\n",
       "      <td>L8TX_201217_01_G07</td>\n",
       "      <td>Cerebellum</td>\n",
       "      <td>UBERON:0002037</td>\n",
       "      <td>Glut</td>\n",
       "      <td>29 CB Glut</td>\n",
       "      <td>314 CB Granule Glut</td>\n",
       "      <td>1155 CB Granule Glut_2</td>\n",
       "      <td>5201 CB Granule Glut_2</td>\n",
       "      <td>Mus musculus</td>\n",
       "      <td>normal</td>\n",
       "      <td>10x 3' v2</td>\n",
       "    </tr>\n",
       "    <tr>\n",
       "      <th>AAACCCAAGAATCCCT-473_A06</th>\n",
       "      <td>AAACCCAAGAATCCCT</td>\n",
       "      <td>L8TX_201217_01_A08</td>\n",
       "      <td>Cerebellum</td>\n",
       "      <td>UBERON:0002037</td>\n",
       "      <td>Glut</td>\n",
       "      <td>29 CB Glut</td>\n",
       "      <td>314 CB Granule Glut</td>\n",
       "      <td>1155 CB Granule Glut_2</td>\n",
       "      <td>5201 CB Granule Glut_2</td>\n",
       "      <td>Mus musculus</td>\n",
       "      <td>normal</td>\n",
       "      <td>10x 3' v3</td>\n",
       "    </tr>\n",
       "    <tr>\n",
       "      <th>AAACCCAAGACTACCT-225_A01</th>\n",
       "      <td>AAACCCAAGACTACCT</td>\n",
       "      <td>L8TX_200227_01_F10</td>\n",
       "      <td>Medulla</td>\n",
       "      <td>UBERON:0001896</td>\n",
       "      <td>Glut</td>\n",
       "      <td>29 CB Glut</td>\n",
       "      <td>314 CB Granule Glut</td>\n",
       "      <td>1154 CB Granule Glut_1</td>\n",
       "      <td>5197 CB Granule Glut_1</td>\n",
       "      <td>Mus musculus</td>\n",
       "      <td>normal</td>\n",
       "      <td>10x 3' v2</td>\n",
       "    </tr>\n",
       "  </tbody>\n",
       "</table>\n",
       "</div>"
      ],
      "text/plain": [
       "                              cell_barcode       library_label      tissue  \\\n",
       "cell_label                                                                   \n",
       "AAACCCAAGAACAAGG-472_A05  AAACCCAAGAACAAGG  L8TX_201217_01_G07  Cerebellum   \n",
       "AAACCCAAGAATCCCT-473_A06  AAACCCAAGAATCCCT  L8TX_201217_01_A08  Cerebellum   \n",
       "AAACCCAAGACTACCT-225_A01  AAACCCAAGACTACCT  L8TX_200227_01_F10     Medulla   \n",
       "\n",
       "                         tissue_ontology_term_id neurotransmitter       class  \\\n",
       "cell_label                                                                      \n",
       "AAACCCAAGAACAAGG-472_A05          UBERON:0002037             Glut  29 CB Glut   \n",
       "AAACCCAAGAATCCCT-473_A06          UBERON:0002037             Glut  29 CB Glut   \n",
       "AAACCCAAGACTACCT-225_A01          UBERON:0001896             Glut  29 CB Glut   \n",
       "\n",
       "                                     subclass               supertype  \\\n",
       "cell_label                                                              \n",
       "AAACCCAAGAACAAGG-472_A05  314 CB Granule Glut  1155 CB Granule Glut_2   \n",
       "AAACCCAAGAATCCCT-473_A06  314 CB Granule Glut  1155 CB Granule Glut_2   \n",
       "AAACCCAAGACTACCT-225_A01  314 CB Granule Glut  1154 CB Granule Glut_1   \n",
       "\n",
       "                                         cluster      organism disease  \\\n",
       "cell_label                                                               \n",
       "AAACCCAAGAACAAGG-472_A05  5201 CB Granule Glut_2  Mus musculus  normal   \n",
       "AAACCCAAGAATCCCT-473_A06  5201 CB Granule Glut_2  Mus musculus  normal   \n",
       "AAACCCAAGACTACCT-225_A01  5197 CB Granule Glut_1  Mus musculus  normal   \n",
       "\n",
       "                              assay  \n",
       "cell_label                           \n",
       "AAACCCAAGAACAAGG-472_A05  10x 3' v2  \n",
       "AAACCCAAGAATCCCT-473_A06  10x 3' v3  \n",
       "AAACCCAAGACTACCT-225_A01  10x 3' v2  "
      ]
     },
     "execution_count": 8,
     "metadata": {},
     "output_type": "execute_result"
    }
   ],
   "source": [
    "from cas.file_utils import read_anndata_file\n",
    "\n",
    "anndata = read_anndata_file(\"./merged_CS20230722_CLAS_29.h5ad\")\n",
    "anndata.obs[:3]"
   ]
  },
  {
   "cell_type": "markdown",
   "id": "d91a9173",
   "metadata": {},
   "source": [
    "#### Analyse CAS and AnnData\n"
   ]
  },
  {
   "cell_type": "code",
   "execution_count": null,
   "id": "58f52507",
   "metadata": {},
   "outputs": [],
   "source": [
    "# Manual version to be replaced by CAS built in when ready\n",
    "obs = anndata.obs \n",
    "\n",
    "labelsets = [labelset.name for labelset in sorted(cas_data.labelsets, key=lambda x: x.rank)]\n",
    "print(labelsets)\n",
    "\n",
    "# assert cluster counts are the same\n",
    "cas_clusters = { annotation.cell_label for annotation in cas_data.annotations if annotation.labelset == \"cluster\"}\n",
    "anndata_clusters = set(obs[\"cluster\"].unique())\n",
    "assert cas_clusters == anndata_clusters\n",
    "\n",
    "# assert hierarchies are the same\n",
    "for annotation in cas_data.annotations:\n",
    "    if labelsets.index(annotation.labelset) < len(labelsets) -1:\n",
    "        # list all parent names for the given annotation in the AnnData\n",
    "        parent_labelset = labelsets[labelsets.index(annotation.labelset) + 1]\n",
    "        parent_names = obs[obs[annotation.labelset] == annotation.cell_label][parent_labelset].unique()\n",
    "        # assert has only one parent\n",
    "        assert len(parent_names) == 1\n",
    "        # assert AnnData parent is same with CAS parent \n",
    "        assert annotation.parent_cell_set_name == parent_names[0]"
   ]
  },
  {
   "cell_type": "markdown",
   "id": "2f56cc02",
   "metadata": {},
   "source": [
    "#### Populate CAS with Cell IDs  \n",
    "\n",
    "Add Cell IDs to the CAS using data from the AnnData file.  \n",
    "\n",
    "This first checks that the heirarchy of nested cell sets in the AnnData file matches the heirarchy in the CAS file (as derived from the Allen spreadsheet). If two cell set are identical but one has a higher rank then the other, this is also treated as valid heirarchy.\n",
    "\n",
    "If the heirarchies match, Cell_IDs are added to the CAS representation.\n",
    "\n",
    "By default, cell IDs are only added at the most granular level (clusters), as Cell IDs for other levels in the hierarchy can be derived."
   ]
  },
  {
   "cell_type": "code",
   "execution_count": 10,
   "id": "3dfcd8c1",
   "metadata": {},
   "outputs": [
    {
     "data": {
      "text/plain": [
       "\u001b[0;31mSignature:\u001b[0m\n",
       "\u001b[0madd_cell_ids\u001b[0m\u001b[0;34m(\u001b[0m\u001b[0;34m\u001b[0m\n",
       "\u001b[0;34m\u001b[0m    \u001b[0mcas\u001b[0m\u001b[0;34m:\u001b[0m \u001b[0mdict\u001b[0m\u001b[0;34m,\u001b[0m\u001b[0;34m\u001b[0m\n",
       "\u001b[0;34m\u001b[0m    \u001b[0mad\u001b[0m\u001b[0;34m:\u001b[0m \u001b[0mUnion\u001b[0m\u001b[0;34m[\u001b[0m\u001b[0mpandas\u001b[0m\u001b[0;34m.\u001b[0m\u001b[0mcore\u001b[0m\u001b[0;34m.\u001b[0m\u001b[0mframe\u001b[0m\u001b[0;34m.\u001b[0m\u001b[0mDataFrame\u001b[0m\u001b[0;34m,\u001b[0m \u001b[0mcap_anndata\u001b[0m\u001b[0;34m.\u001b[0m\u001b[0mbacked_df\u001b[0m\u001b[0;34m.\u001b[0m\u001b[0mCapAnnDataDF\u001b[0m\u001b[0;34m]\u001b[0m\u001b[0;34m,\u001b[0m\u001b[0;34m\u001b[0m\n",
       "\u001b[0;34m\u001b[0m    \u001b[0mlabelsets\u001b[0m\u001b[0;34m:\u001b[0m \u001b[0mlist\u001b[0m \u001b[0;34m=\u001b[0m \u001b[0;32mNone\u001b[0m\u001b[0;34m,\u001b[0m\u001b[0;34m\u001b[0m\n",
       "\u001b[0;34m\u001b[0m\u001b[0;34m)\u001b[0m\u001b[0;34m\u001b[0m\u001b[0;34m\u001b[0m\u001b[0m\n",
       "\u001b[0;31mDocstring:\u001b[0m\n",
       "Add/update CellIDs to CAS from matching AnnData file.\n",
       "\n",
       "Parameters:\n",
       "    cas: CAS JSON object\n",
       "    ad: anndata object\n",
       "    labelsets: List of labelsets to update with IDs from AnnData. If value is null, rank '0' labelset is used. The\n",
       "    labelsets should be provided in order, starting from rank 0 (leaf nodes) and ascending to higher ranks.\n",
       "\u001b[0;31mFile:\u001b[0m      ~/Documents/GitHub/cas-tools/venv/lib/python3.9/site-packages/cas/populate_cell_ids.py\n",
       "\u001b[0;31mType:\u001b[0m      function"
      ]
     },
     "metadata": {},
     "output_type": "display_data"
    }
   ],
   "source": [
    "add_cell_ids?"
   ]
  },
  {
   "cell_type": "code",
   "execution_count": 9,
   "id": "3136cf88",
   "metadata": {
    "scrolled": true
   },
   "outputs": [
    {
     "ename": "AttributeError",
     "evalue": "'AnnData' object has no attribute 'columns'",
     "output_type": "error",
     "traceback": [
      "\u001b[0;31m---------------------------------------------------------------------------\u001b[0m",
      "\u001b[0;31mAttributeError\u001b[0m                            Traceback (most recent call last)",
      "Cell \u001b[0;32mIn[9], line 4\u001b[0m\n\u001b[1;32m      1\u001b[0m \u001b[38;5;28;01mfrom\u001b[39;00m \u001b[38;5;21;01mcas\u001b[39;00m\u001b[38;5;21;01m.\u001b[39;00m\u001b[38;5;21;01mpopulate_cell_ids\u001b[39;00m \u001b[38;5;28;01mimport\u001b[39;00m add_cell_ids\n\u001b[1;32m      3\u001b[0m labelset_names \u001b[38;5;241m=\u001b[39m [labelset\u001b[38;5;241m.\u001b[39mname \u001b[38;5;28;01mfor\u001b[39;00m labelset \u001b[38;5;129;01min\u001b[39;00m \u001b[38;5;28msorted\u001b[39m(cas_data\u001b[38;5;241m.\u001b[39mlabelsets, key\u001b[38;5;241m=\u001b[39m\u001b[38;5;28;01mlambda\u001b[39;00m x: x\u001b[38;5;241m.\u001b[39mrank)]\n\u001b[0;32m----> 4\u001b[0m cas \u001b[38;5;241m=\u001b[39m \u001b[43madd_cell_ids\u001b[49m\u001b[43m(\u001b[49m\u001b[43mwmb_class_29_cas\u001b[49m\u001b[43m,\u001b[49m\u001b[43m \u001b[49m\u001b[43manndata\u001b[49m\u001b[43m,\u001b[49m\u001b[43m \u001b[49m\u001b[43mlabelset_names\u001b[49m\u001b[43m)\u001b[49m\n\u001b[1;32m      6\u001b[0m \u001b[38;5;28mprint\u001b[39m(json\u001b[38;5;241m.\u001b[39mdumps(cas[\u001b[38;5;124m\"\u001b[39m\u001b[38;5;124mannotations\u001b[39m\u001b[38;5;124m\"\u001b[39m][\u001b[38;5;241m5\u001b[39m], indent\u001b[38;5;241m=\u001b[39m\u001b[38;5;241m2\u001b[39m)[:\u001b[38;5;241m1500\u001b[39m])\n",
      "File \u001b[0;32m~/Documents/GitHub/cas-tools/venv/lib/python3.9/site-packages/cas/populate_cell_ids.py:102\u001b[0m, in \u001b[0;36madd_cell_ids\u001b[0;34m(cas, ad, labelsets)\u001b[0m\n\u001b[1;32m     99\u001b[0m \u001b[38;5;28;01mif\u001b[39;00m \u001b[38;5;129;01mnot\u001b[39;00m labelsets:\n\u001b[1;32m    100\u001b[0m     labelsets \u001b[38;5;241m=\u001b[39m [rank_zero_labelset]\n\u001b[0;32m--> 102\u001b[0m obs_keys \u001b[38;5;241m=\u001b[39m \u001b[43mad\u001b[49m\u001b[38;5;241;43m.\u001b[39;49m\u001b[43mcolumns\u001b[49m\u001b[38;5;241m.\u001b[39mtolist()\n\u001b[1;32m    103\u001b[0m cluster_identifier_column \u001b[38;5;241m=\u001b[39m get_obs_cluster_identifier_column(\n\u001b[1;32m    104\u001b[0m     obs_keys, labelsets, rank_zero_labelset\n\u001b[1;32m    105\u001b[0m )\n\u001b[1;32m    107\u001b[0m \u001b[38;5;28;01mif\u001b[39;00m cluster_identifier_column:\n",
      "\u001b[0;31mAttributeError\u001b[0m: 'AnnData' object has no attribute 'columns'"
     ]
    }
   ],
   "source": [
    "from cas.populate_cell_ids import add_cell_ids\n",
    "\n",
    "labelset_names = [labelset.name for labelset in sorted(cas_data.labelsets, key=lambda x: x.rank)]\n",
    "cas = add_cell_ids(wmb_class_29_cas, anndata, labelset_names)\n",
    "\n",
    "print(json.dumps(cas[\"annotations\"][5], indent=2)[:1500])"
   ]
  },
  {
   "cell_type": "markdown",
   "id": "f7ebd139",
   "metadata": {},
   "source": [
    "#### Merge CAS to Anndata\n",
    "\n",
    "Adds CAS to uns of the AnnData file.  Note that further checks are carried out here to assess whether cell set membership matches between the CAS file and the AnnData file.  In this case they do match, but this also protects against files being out of sync."
   ]
  },
  {
   "cell_type": "code",
   "execution_count": null,
   "id": "4443ac21",
   "metadata": {},
   "outputs": [],
   "source": [
    "from cas.anndata_conversion import merge_cas_object\n",
    "import anndata as ad\n",
    "\n",
    "anndata.file.close()\n",
    "merge_cas_object(wmb_class_29_cas, \"./merged_CS20230722_CLAS_29.h5ad\", True, \"./merged_CS20230722_CLAS_29_v2.h5ad\")"
   ]
  },
  {
   "cell_type": "code",
   "execution_count": null,
   "id": "0ac32b41",
   "metadata": {},
   "outputs": [],
   "source": [
    "from cas.file_utils import read_cas_from_anndata\n",
    "\n",
    "cas_read = read_cas_from_anndata(\"./merged_CS20230722_CLAS_29_v2.h5ad\")\n",
    "cas_read.get_all_annotations().head(5)"
   ]
  },
  {
   "cell_type": "code",
   "execution_count": 26,
   "id": "aef9d70e",
   "metadata": {},
   "outputs": [],
   "source": [
    "anndata.file.close()"
   ]
  },
  {
   "cell_type": "code",
   "execution_count": 27,
   "id": "8470465a",
   "metadata": {},
   "outputs": [],
   "source": [
    "import cas.file_utils"
   ]
  },
  {
   "cell_type": "code",
   "execution_count": 28,
   "id": "4cc9bd75",
   "metadata": {},
   "outputs": [
    {
     "data": {
      "text/plain": [
       "\u001b[0;31mSignature:\u001b[0m\n",
       "\u001b[0mcas\u001b[0m\u001b[0;34m.\u001b[0m\u001b[0mfile_utils\u001b[0m\u001b[0;34m.\u001b[0m\u001b[0mwrite_json_file\u001b[0m\u001b[0;34m(\u001b[0m\u001b[0;34m\u001b[0m\n",
       "\u001b[0;34m\u001b[0m    \u001b[0mcas\u001b[0m\u001b[0;34m:\u001b[0m \u001b[0mcas\u001b[0m\u001b[0;34m.\u001b[0m\u001b[0mmodel\u001b[0m\u001b[0;34m.\u001b[0m\u001b[0mCellTypeAnnotation\u001b[0m\u001b[0;34m,\u001b[0m\u001b[0;34m\u001b[0m\n",
       "\u001b[0;34m\u001b[0m    \u001b[0mout_file\u001b[0m\u001b[0;34m:\u001b[0m \u001b[0mstr\u001b[0m\u001b[0;34m,\u001b[0m\u001b[0;34m\u001b[0m\n",
       "\u001b[0;34m\u001b[0m    \u001b[0mprint_undefined\u001b[0m\u001b[0;34m:\u001b[0m \u001b[0mbool\u001b[0m \u001b[0;34m=\u001b[0m \u001b[0;32mFalse\u001b[0m\u001b[0;34m,\u001b[0m\u001b[0;34m\u001b[0m\n",
       "\u001b[0;34m\u001b[0m\u001b[0;34m)\u001b[0m\u001b[0;34m\u001b[0m\u001b[0;34m\u001b[0m\u001b[0m\n",
       "\u001b[0;31mDocstring:\u001b[0m\n",
       "Writes cell type annotation object to a json file.\n",
       ":param cas: cell type annotation object to serialize.\n",
       ":param out_file: output file path.\n",
       ":param print_undefined: prints null values to the output json if true. Omits undefined values from the json output if\n",
       "\u001b[0;31mFile:\u001b[0m      ~/Documents/GitHub/cas-tools/venv/lib/python3.9/site-packages/cas/file_utils.py\n",
       "\u001b[0;31mType:\u001b[0m      function"
      ]
     },
     "metadata": {},
     "output_type": "display_data"
    }
   ],
   "source": [
    "cas.file_utils.write_json_file?"
   ]
  },
  {
   "cell_type": "code",
   "execution_count": null,
   "id": "f5710f7b",
   "metadata": {},
   "outputs": [],
   "source": []
  }
 ],
 "metadata": {
  "kernelspec": {
   "display_name": "Python 3 (ipykernel)",
   "language": "python",
   "name": "python3"
  },
  "language_info": {
   "codemirror_mode": {
    "name": "ipython",
    "version": 3
   },
   "file_extension": ".py",
   "mimetype": "text/x-python",
   "name": "python",
   "nbconvert_exporter": "python",
   "pygments_lexer": "ipython3",
   "version": "3.9.19"
  }
 },
 "nbformat": 4,
 "nbformat_minor": 5
}
