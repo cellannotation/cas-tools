{
 "cells": [
  {
   "cell_type": "code",
   "execution_count": 10,
   "id": "cb48e4c1",
   "metadata": {
    "scrolled": true
   },
   "outputs": [
    {
     "name": "stdout",
     "output_type": "stream",
     "text": [
      "Requirement already satisfied: pandas in /Users/ub2/Library/Caches/pypoetry/virtualenvs/cas-tools-h60LJ6k2-py3.9/lib/python3.9/site-packages (2.2.1)\n",
      "Requirement already satisfied: numpy<2,>=1.22.4 in /Users/ub2/Library/Caches/pypoetry/virtualenvs/cas-tools-h60LJ6k2-py3.9/lib/python3.9/site-packages (from pandas) (1.26.4)\n",
      "Requirement already satisfied: python-dateutil>=2.8.2 in /Users/ub2/Library/Caches/pypoetry/virtualenvs/cas-tools-h60LJ6k2-py3.9/lib/python3.9/site-packages (from pandas) (2.9.0)\n",
      "Requirement already satisfied: pytz>=2020.1 in /Users/ub2/Library/Caches/pypoetry/virtualenvs/cas-tools-h60LJ6k2-py3.9/lib/python3.9/site-packages (from pandas) (2024.2)\n",
      "Requirement already satisfied: tzdata>=2022.7 in /Users/ub2/Library/Caches/pypoetry/virtualenvs/cas-tools-h60LJ6k2-py3.9/lib/python3.9/site-packages (from pandas) (2024.2)\n",
      "Requirement already satisfied: six>=1.5 in /Users/ub2/Library/Caches/pypoetry/virtualenvs/cas-tools-h60LJ6k2-py3.9/lib/python3.9/site-packages (from python-dateutil>=2.8.2->pandas) (1.17.0)\n",
      "\n",
      "\u001b[1m[\u001b[0m\u001b[34;49mnotice\u001b[0m\u001b[1;39;49m]\u001b[0m\u001b[39;49m A new release of pip is available: \u001b[0m\u001b[31;49m24.1\u001b[0m\u001b[39;49m -> \u001b[0m\u001b[32;49m25.0\u001b[0m\n",
      "\u001b[1m[\u001b[0m\u001b[34;49mnotice\u001b[0m\u001b[1;39;49m]\u001b[0m\u001b[39;49m To update, run: \u001b[0m\u001b[32;49mpip install --upgrade pip\u001b[0m\n",
      "Requirement already satisfied: anndata in /Users/ub2/Library/Caches/pypoetry/virtualenvs/cas-tools-h60LJ6k2-py3.9/lib/python3.9/site-packages (0.10.5)\n",
      "Requirement already satisfied: array-api-compat in /Users/ub2/Library/Caches/pypoetry/virtualenvs/cas-tools-h60LJ6k2-py3.9/lib/python3.9/site-packages (from anndata) (1.10.0)\n",
      "Requirement already satisfied: exceptiongroup in /Users/ub2/Library/Caches/pypoetry/virtualenvs/cas-tools-h60LJ6k2-py3.9/lib/python3.9/site-packages (from anndata) (1.2.2)\n",
      "Requirement already satisfied: h5py>=3 in /Users/ub2/Library/Caches/pypoetry/virtualenvs/cas-tools-h60LJ6k2-py3.9/lib/python3.9/site-packages (from anndata) (3.10.0)\n",
      "Requirement already satisfied: natsort in /Users/ub2/Library/Caches/pypoetry/virtualenvs/cas-tools-h60LJ6k2-py3.9/lib/python3.9/site-packages (from anndata) (8.4.0)\n",
      "Requirement already satisfied: numpy>=1.16.5 in /Users/ub2/Library/Caches/pypoetry/virtualenvs/cas-tools-h60LJ6k2-py3.9/lib/python3.9/site-packages (from anndata) (1.26.4)\n",
      "Requirement already satisfied: packaging>=20 in /Users/ub2/Library/Caches/pypoetry/virtualenvs/cas-tools-h60LJ6k2-py3.9/lib/python3.9/site-packages (from anndata) (24.2)\n",
      "Requirement already satisfied: pandas!=2.1.0rc0,!=2.1.2,>=1.1.1 in /Users/ub2/Library/Caches/pypoetry/virtualenvs/cas-tools-h60LJ6k2-py3.9/lib/python3.9/site-packages (from anndata) (2.2.1)\n",
      "Requirement already satisfied: scipy>1.4 in /Users/ub2/Library/Caches/pypoetry/virtualenvs/cas-tools-h60LJ6k2-py3.9/lib/python3.9/site-packages (from anndata) (1.13.1)\n",
      "Requirement already satisfied: python-dateutil>=2.8.2 in /Users/ub2/Library/Caches/pypoetry/virtualenvs/cas-tools-h60LJ6k2-py3.9/lib/python3.9/site-packages (from pandas!=2.1.0rc0,!=2.1.2,>=1.1.1->anndata) (2.9.0)\n",
      "Requirement already satisfied: pytz>=2020.1 in /Users/ub2/Library/Caches/pypoetry/virtualenvs/cas-tools-h60LJ6k2-py3.9/lib/python3.9/site-packages (from pandas!=2.1.0rc0,!=2.1.2,>=1.1.1->anndata) (2024.2)\n",
      "Requirement already satisfied: tzdata>=2022.7 in /Users/ub2/Library/Caches/pypoetry/virtualenvs/cas-tools-h60LJ6k2-py3.9/lib/python3.9/site-packages (from pandas!=2.1.0rc0,!=2.1.2,>=1.1.1->anndata) (2024.2)\n",
      "Requirement already satisfied: six>=1.5 in /Users/ub2/Library/Caches/pypoetry/virtualenvs/cas-tools-h60LJ6k2-py3.9/lib/python3.9/site-packages (from python-dateutil>=2.8.2->pandas!=2.1.0rc0,!=2.1.2,>=1.1.1->anndata) (1.17.0)\n",
      "\n",
      "\u001b[1m[\u001b[0m\u001b[34;49mnotice\u001b[0m\u001b[1;39;49m]\u001b[0m\u001b[39;49m A new release of pip is available: \u001b[0m\u001b[31;49m24.1\u001b[0m\u001b[39;49m -> \u001b[0m\u001b[32;49m25.0\u001b[0m\n",
      "\u001b[1m[\u001b[0m\u001b[34;49mnotice\u001b[0m\u001b[1;39;49m]\u001b[0m\u001b[39;49m To update, run: \u001b[0m\u001b[32;49mpip install --upgrade pip\u001b[0m\n",
      "Requirement already satisfied: cas-tools in /Users/ub2/Library/Caches/pypoetry/virtualenvs/cas-tools-h60LJ6k2-py3.9/lib/python3.9/site-packages (1.1.0)\n",
      "Collecting cas-tools\n",
      "  Downloading cas_tools-1.1.1-py3-none-any.whl.metadata (3.5 kB)\n",
      "Requirement already satisfied: anndata==0.10.5 in /Users/ub2/Library/Caches/pypoetry/virtualenvs/cas-tools-h60LJ6k2-py3.9/lib/python3.9/site-packages (from cas-tools) (0.10.5)\n",
      "Requirement already satisfied: cap-anndata<0.4.0,>=0.3.0 in /Users/ub2/Library/Caches/pypoetry/virtualenvs/cas-tools-h60LJ6k2-py3.9/lib/python3.9/site-packages (from cas-tools) (0.3.1)\n",
      "Requirement already satisfied: cas-linkml<0.0.15,>=0.0.14 in /Users/ub2/Library/Caches/pypoetry/virtualenvs/cas-tools-h60LJ6k2-py3.9/lib/python3.9/site-packages (from cas-tools) (0.0.14)\n",
      "Requirement already satisfied: cell-annotation-schema==1.0.0 in /Users/ub2/Library/Caches/pypoetry/virtualenvs/cas-tools-h60LJ6k2-py3.9/lib/python3.9/site-packages (from cas-tools) (1.0.0)\n",
      "Requirement already satisfied: cellxgene-census==1.15.0 in /Users/ub2/Library/Caches/pypoetry/virtualenvs/cas-tools-h60LJ6k2-py3.9/lib/python3.9/site-packages (from cas-tools) (1.15.0)\n",
      "Requirement already satisfied: dataclasses-json==0.6.4 in /Users/ub2/Library/Caches/pypoetry/virtualenvs/cas-tools-h60LJ6k2-py3.9/lib/python3.9/site-packages (from cas-tools) (0.6.4)\n",
      "Requirement already satisfied: deepmerge==1.1.0 in /Users/ub2/Library/Caches/pypoetry/virtualenvs/cas-tools-h60LJ6k2-py3.9/lib/python3.9/site-packages (from cas-tools) (1.1.0)\n",
      "Requirement already satisfied: defusedxml==0.7.1 in /Users/ub2/Library/Caches/pypoetry/virtualenvs/cas-tools-h60LJ6k2-py3.9/lib/python3.9/site-packages (from cas-tools) (0.7.1)\n",
      "Requirement already satisfied: h5py==3.10.0 in /Users/ub2/Library/Caches/pypoetry/virtualenvs/cas-tools-h60LJ6k2-py3.9/lib/python3.9/site-packages (from cas-tools) (3.10.0)\n",
      "Requirement already satisfied: jsonschema==4.4.0 in /Users/ub2/Library/Caches/pypoetry/virtualenvs/cas-tools-h60LJ6k2-py3.9/lib/python3.9/site-packages (from cas-tools) (4.4.0)\n",
      "Requirement already satisfied: linkml==1.7.8 in /Users/ub2/Library/Caches/pypoetry/virtualenvs/cas-tools-h60LJ6k2-py3.9/lib/python3.9/site-packages (from cas-tools) (1.7.8)\n",
      "Requirement already satisfied: marshmallow==3.21.1 in /Users/ub2/Library/Caches/pypoetry/virtualenvs/cas-tools-h60LJ6k2-py3.9/lib/python3.9/site-packages (from cas-tools) (3.21.1)\n",
      "Requirement already satisfied: numpy==1.26.4 in /Users/ub2/Library/Caches/pypoetry/virtualenvs/cas-tools-h60LJ6k2-py3.9/lib/python3.9/site-packages (from cas-tools) (1.26.4)\n",
      "Requirement already satisfied: oaklib==0.6.4 in /Users/ub2/Library/Caches/pypoetry/virtualenvs/cas-tools-h60LJ6k2-py3.9/lib/python3.9/site-packages (from cas-tools) (0.6.4)\n",
      "Requirement already satisfied: openpyxl==3.1.2 in /Users/ub2/Library/Caches/pypoetry/virtualenvs/cas-tools-h60LJ6k2-py3.9/lib/python3.9/site-packages (from cas-tools) (3.1.2)\n",
      "Requirement already satisfied: ordered-set==4.1.0 in /Users/ub2/Library/Caches/pypoetry/virtualenvs/cas-tools-h60LJ6k2-py3.9/lib/python3.9/site-packages (from cas-tools) (4.1.0)\n",
      "Requirement already satisfied: pandas==2.2.1 in /Users/ub2/Library/Caches/pypoetry/virtualenvs/cas-tools-h60LJ6k2-py3.9/lib/python3.9/site-packages (from cas-tools) (2.2.1)\n",
      "Requirement already satisfied: psycopg2-binary==2.9.5 in /Users/ub2/Library/Caches/pypoetry/virtualenvs/cas-tools-h60LJ6k2-py3.9/lib/python3.9/site-packages (from cas-tools) (2.9.5)\n",
      "Requirement already satisfied: python-dateutil==2.9.0 in /Users/ub2/Library/Caches/pypoetry/virtualenvs/cas-tools-h60LJ6k2-py3.9/lib/python3.9/site-packages (from cas-tools) (2.9.0)\n",
      "Requirement already satisfied: rdflib==7.0.0 in /Users/ub2/Library/Caches/pypoetry/virtualenvs/cas-tools-h60LJ6k2-py3.9/lib/python3.9/site-packages (from cas-tools) (7.0.0)\n",
      "Requirement already satisfied: requests==2.32.3 in /Users/ub2/Library/Caches/pypoetry/virtualenvs/cas-tools-h60LJ6k2-py3.9/lib/python3.9/site-packages (from cas-tools) (2.32.3)\n",
      "Requirement already satisfied: ruamel-yaml==0.18.6 in /Users/ub2/Library/Caches/pypoetry/virtualenvs/cas-tools-h60LJ6k2-py3.9/lib/python3.9/site-packages (from cas-tools) (0.18.6)\n",
      "Requirement already satisfied: schema-automator==0.5.1 in /Users/ub2/Library/Caches/pypoetry/virtualenvs/cas-tools-h60LJ6k2-py3.9/lib/python3.9/site-packages (from cas-tools) (0.5.1)\n",
      "Requirement already satisfied: urllib3<2 in /Users/ub2/Library/Caches/pypoetry/virtualenvs/cas-tools-h60LJ6k2-py3.9/lib/python3.9/site-packages (from cas-tools) (1.26.20)\n"
     ]
    },
    {
     "name": "stdout",
     "output_type": "stream",
     "text": [
      "Requirement already satisfied: array-api-compat in /Users/ub2/Library/Caches/pypoetry/virtualenvs/cas-tools-h60LJ6k2-py3.9/lib/python3.9/site-packages (from anndata==0.10.5->cas-tools) (1.10.0)\r\n",
      "Requirement already satisfied: exceptiongroup in /Users/ub2/Library/Caches/pypoetry/virtualenvs/cas-tools-h60LJ6k2-py3.9/lib/python3.9/site-packages (from anndata==0.10.5->cas-tools) (1.2.2)\r\n",
      "Requirement already satisfied: natsort in /Users/ub2/Library/Caches/pypoetry/virtualenvs/cas-tools-h60LJ6k2-py3.9/lib/python3.9/site-packages (from anndata==0.10.5->cas-tools) (8.4.0)\r\n",
      "Requirement already satisfied: packaging>=20 in /Users/ub2/Library/Caches/pypoetry/virtualenvs/cas-tools-h60LJ6k2-py3.9/lib/python3.9/site-packages (from anndata==0.10.5->cas-tools) (24.2)\r\n",
      "Requirement already satisfied: scipy>1.4 in /Users/ub2/Library/Caches/pypoetry/virtualenvs/cas-tools-h60LJ6k2-py3.9/lib/python3.9/site-packages (from anndata==0.10.5->cas-tools) (1.13.1)\r\n",
      "Requirement already satisfied: tiledbsoma~=1.11.4 in /Users/ub2/Library/Caches/pypoetry/virtualenvs/cas-tools-h60LJ6k2-py3.9/lib/python3.9/site-packages (from cellxgene-census==1.15.0->cas-tools) (1.11.4)\r\n",
      "Requirement already satisfied: typing-extensions in /Users/ub2/Library/Caches/pypoetry/virtualenvs/cas-tools-h60LJ6k2-py3.9/lib/python3.9/site-packages (from cellxgene-census==1.15.0->cas-tools) (4.12.2)\r\n",
      "Requirement already satisfied: s3fs>=2021.06.1 in /Users/ub2/Library/Caches/pypoetry/virtualenvs/cas-tools-h60LJ6k2-py3.9/lib/python3.9/site-packages (from cellxgene-census==1.15.0->cas-tools) (2024.12.0)\r\n",
      "Requirement already satisfied: typing-inspect<1,>=0.4.0 in /Users/ub2/Library/Caches/pypoetry/virtualenvs/cas-tools-h60LJ6k2-py3.9/lib/python3.9/site-packages (from dataclasses-json==0.6.4->cas-tools) (0.9.0)\r\n",
      "Requirement already satisfied: attrs>=17.4.0 in /Users/ub2/Library/Caches/pypoetry/virtualenvs/cas-tools-h60LJ6k2-py3.9/lib/python3.9/site-packages (from jsonschema==4.4.0->cas-tools) (24.3.0)\r\n",
      "Requirement already satisfied: pyrsistent!=0.17.0,!=0.17.1,!=0.17.2,>=0.14.0 in /Users/ub2/Library/Caches/pypoetry/virtualenvs/cas-tools-h60LJ6k2-py3.9/lib/python3.9/site-packages (from jsonschema==4.4.0->cas-tools) (0.20.0)\r\n",
      "Requirement already satisfied: antlr4-python3-runtime<4.10,>=4.9.0 in /Users/ub2/Library/Caches/pypoetry/virtualenvs/cas-tools-h60LJ6k2-py3.9/lib/python3.9/site-packages (from linkml==1.7.8->cas-tools) (4.9.3)\r\n",
      "Requirement already satisfied: click>=7.0 in /Users/ub2/Library/Caches/pypoetry/virtualenvs/cas-tools-h60LJ6k2-py3.9/lib/python3.9/site-packages (from linkml==1.7.8->cas-tools) (8.1.8)\r\n",
      "Requirement already satisfied: graphviz>=0.10.1 in /Users/ub2/Library/Caches/pypoetry/virtualenvs/cas-tools-h60LJ6k2-py3.9/lib/python3.9/site-packages (from linkml==1.7.8->cas-tools) (0.20.3)\r\n",
      "Requirement already satisfied: hbreader in /Users/ub2/Library/Caches/pypoetry/virtualenvs/cas-tools-h60LJ6k2-py3.9/lib/python3.9/site-packages (from linkml==1.7.8->cas-tools) (0.9.1)\r\n",
      "Requirement already satisfied: isodate>=0.6.0 in /Users/ub2/Library/Caches/pypoetry/virtualenvs/cas-tools-h60LJ6k2-py3.9/lib/python3.9/site-packages (from linkml==1.7.8->cas-tools) (0.6.1)\r\n",
      "Requirement already satisfied: jinja2>=3.1.0 in /Users/ub2/Library/Caches/pypoetry/virtualenvs/cas-tools-h60LJ6k2-py3.9/lib/python3.9/site-packages (from linkml==1.7.8->cas-tools) (3.1.5)\r\n",
      "Requirement already satisfied: jsonasobj2<2.0.0,>=1.0.3 in /Users/ub2/Library/Caches/pypoetry/virtualenvs/cas-tools-h60LJ6k2-py3.9/lib/python3.9/site-packages (from linkml==1.7.8->cas-tools) (1.0.4)\r\n",
      "Requirement already satisfied: linkml-dataops in /Users/ub2/Library/Caches/pypoetry/virtualenvs/cas-tools-h60LJ6k2-py3.9/lib/python3.9/site-packages (from linkml==1.7.8->cas-tools) (0.1.0)\r\n",
      "Requirement already satisfied: linkml-runtime>=1.7.4 in /Users/ub2/Library/Caches/pypoetry/virtualenvs/cas-tools-h60LJ6k2-py3.9/lib/python3.9/site-packages (from linkml==1.7.8->cas-tools) (1.8.3)\r\n",
      "Requirement already satisfied: parse in /Users/ub2/Library/Caches/pypoetry/virtualenvs/cas-tools-h60LJ6k2-py3.9/lib/python3.9/site-packages (from linkml==1.7.8->cas-tools) (1.20.2)\r\n",
      "Requirement already satisfied: prefixcommons>=0.1.7 in /Users/ub2/Library/Caches/pypoetry/virtualenvs/cas-tools-h60LJ6k2-py3.9/lib/python3.9/site-packages (from linkml==1.7.8->cas-tools) (0.1.12)\r\n",
      "Requirement already satisfied: prefixmaps>=0.2.2 in /Users/ub2/Library/Caches/pypoetry/virtualenvs/cas-tools-h60LJ6k2-py3.9/lib/python3.9/site-packages (from linkml==1.7.8->cas-tools) (0.2.6)\r\n",
      "Requirement already satisfied: pydantic<3.0.0,>=1.0.0 in /Users/ub2/Library/Caches/pypoetry/virtualenvs/cas-tools-h60LJ6k2-py3.9/lib/python3.9/site-packages (from linkml==1.7.8->cas-tools) (2.10.5)\r\n",
      "Requirement already satisfied: pyjsg>=0.11.6 in /Users/ub2/Library/Caches/pypoetry/virtualenvs/cas-tools-h60LJ6k2-py3.9/lib/python3.9/site-packages (from linkml==1.7.8->cas-tools) (0.11.10)\r\n",
      "Requirement already satisfied: pyshex>=0.7.20 in /Users/ub2/Library/Caches/pypoetry/virtualenvs/cas-tools-h60LJ6k2-py3.9/lib/python3.9/site-packages (from linkml==1.7.8->cas-tools) (0.8.1)\r\n",
      "Requirement already satisfied: pyshexc>=0.8.3 in /Users/ub2/Library/Caches/pypoetry/virtualenvs/cas-tools-h60LJ6k2-py3.9/lib/python3.9/site-packages (from linkml==1.7.8->cas-tools) (0.9.1)\r\n",
      "Requirement already satisfied: pyyaml in /Users/ub2/Library/Caches/pypoetry/virtualenvs/cas-tools-h60LJ6k2-py3.9/lib/python3.9/site-packages (from linkml==1.7.8->cas-tools) (6.0.2)\r\n",
      "Requirement already satisfied: sqlalchemy>=1.4.31 in /Users/ub2/Library/Caches/pypoetry/virtualenvs/cas-tools-h60LJ6k2-py3.9/lib/python3.9/site-packages (from linkml==1.7.8->cas-tools) (2.0.37)\r\n",
      "Requirement already satisfied: watchdog>=0.9.0 in /Users/ub2/Library/Caches/pypoetry/virtualenvs/cas-tools-h60LJ6k2-py3.9/lib/python3.9/site-packages (from linkml==1.7.8->cas-tools) (6.0.0)\r\n",
      "Requirement already satisfied: SPARQLWrapper in /Users/ub2/Library/Caches/pypoetry/virtualenvs/cas-tools-h60LJ6k2-py3.9/lib/python3.9/site-packages (from oaklib==0.6.4->cas-tools) (2.0.0)\r\n",
      "Requirement already satisfied: airium>=0.2.5 in /Users/ub2/Library/Caches/pypoetry/virtualenvs/cas-tools-h60LJ6k2-py3.9/lib/python3.9/site-packages (from oaklib==0.6.4->cas-tools) (0.2.6)\r\n",
      "Requirement already satisfied: appdirs>=1.4.4 in /Users/ub2/Library/Caches/pypoetry/virtualenvs/cas-tools-h60LJ6k2-py3.9/lib/python3.9/site-packages (from oaklib==0.6.4->cas-tools) (1.4.4)\r\n",
      "Requirement already satisfied: class-resolver>=0.4.2 in /Users/ub2/Library/Caches/pypoetry/virtualenvs/cas-tools-h60LJ6k2-py3.9/lib/python3.9/site-packages (from oaklib==0.6.4->cas-tools) (0.5.4)\r\n",
      "Requirement already satisfied: curies>=0.6.6 in /Users/ub2/Library/Caches/pypoetry/virtualenvs/cas-tools-h60LJ6k2-py3.9/lib/python3.9/site-packages (from oaklib==0.6.4->cas-tools) (0.10.2)\r\n",
      "Requirement already satisfied: eutils>=0.6.0 in /Users/ub2/Library/Caches/pypoetry/virtualenvs/cas-tools-h60LJ6k2-py3.9/lib/python3.9/site-packages (from oaklib==0.6.4->cas-tools) (0.6.0)\r\n",
      "Requirement already satisfied: funowl>=0.2.0 in /Users/ub2/Library/Caches/pypoetry/virtualenvs/cas-tools-h60LJ6k2-py3.9/lib/python3.9/site-packages (from oaklib==0.6.4->cas-tools) (0.2.3)\r\n",
      "Requirement already satisfied: jsonlines<5.0.0,>=4.0.0 in /Users/ub2/Library/Caches/pypoetry/virtualenvs/cas-tools-h60LJ6k2-py3.9/lib/python3.9/site-packages (from oaklib==0.6.4->cas-tools) (4.0.0)\r\n",
      "Requirement already satisfied: kgcl-rdflib==0.5.0 in /Users/ub2/Library/Caches/pypoetry/virtualenvs/cas-tools-h60LJ6k2-py3.9/lib/python3.9/site-packages (from oaklib==0.6.4->cas-tools) (0.5.0)\r\n",
      "Requirement already satisfied: kgcl-schema<0.7.0,>=0.6.8 in /Users/ub2/Library/Caches/pypoetry/virtualenvs/cas-tools-h60LJ6k2-py3.9/lib/python3.9/site-packages (from oaklib==0.6.4->cas-tools) (0.6.9)\r\n",
      "Requirement already satisfied: linkml-renderer>=0.3.0 in /Users/ub2/Library/Caches/pypoetry/virtualenvs/cas-tools-h60LJ6k2-py3.9/lib/python3.9/site-packages (from oaklib==0.6.4->cas-tools) (0.3.1)\r\n",
      "Requirement already satisfied: ndex2<4.0.0,>=3.5.0 in /Users/ub2/Library/Caches/pypoetry/virtualenvs/cas-tools-h60LJ6k2-py3.9/lib/python3.9/site-packages (from oaklib==0.6.4->cas-tools) (3.9.0)\r\n",
      "Requirement already satisfied: networkx>=2.7.1 in /Users/ub2/Library/Caches/pypoetry/virtualenvs/cas-tools-h60LJ6k2-py3.9/lib/python3.9/site-packages (from oaklib==0.6.4->cas-tools) (3.2.1)\r\n",
      "Requirement already satisfied: ols-client>=0.1.1 in /Users/ub2/Library/Caches/pypoetry/virtualenvs/cas-tools-h60LJ6k2-py3.9/lib/python3.9/site-packages (from oaklib==0.6.4->cas-tools) (0.1.4)\r\n",
      "Requirement already satisfied: ontoportal-client>=0.0.3 in /Users/ub2/Library/Caches/pypoetry/virtualenvs/cas-tools-h60LJ6k2-py3.9/lib/python3.9/site-packages (from oaklib==0.6.4->cas-tools) (0.0.4)\r\n",
      "Requirement already satisfied: pronto>=2.5.0 in /Users/ub2/Library/Caches/pypoetry/virtualenvs/cas-tools-h60LJ6k2-py3.9/lib/python3.9/site-packages (from oaklib==0.6.4->cas-tools) (2.5.8)\r\n",
      "Requirement already satisfied: pysolr<4.0.0,>=3.9.0 in /Users/ub2/Library/Caches/pypoetry/virtualenvs/cas-tools-h60LJ6k2-py3.9/lib/python3.9/site-packages (from oaklib==0.6.4->cas-tools) (3.10.0)\r\n",
      "Requirement already satisfied: pystow>=0.5.0 in /Users/ub2/Library/Caches/pypoetry/virtualenvs/cas-tools-h60LJ6k2-py3.9/lib/python3.9/site-packages (from oaklib==0.6.4->cas-tools) (0.6.1)\r\n",
      "Requirement already satisfied: ratelimit>=2.2.1 in /Users/ub2/Library/Caches/pypoetry/virtualenvs/cas-tools-h60LJ6k2-py3.9/lib/python3.9/site-packages (from oaklib==0.6.4->cas-tools) (2.2.1)\r\n",
      "Requirement already satisfied: requests-cache<2.0.0,>=1.0.1 in /Users/ub2/Library/Caches/pypoetry/virtualenvs/cas-tools-h60LJ6k2-py3.9/lib/python3.9/site-packages (from oaklib==0.6.4->cas-tools) (1.2.1)\r\n",
      "Requirement already satisfied: semsql>=0.3.1 in /Users/ub2/Library/Caches/pypoetry/virtualenvs/cas-tools-h60LJ6k2-py3.9/lib/python3.9/site-packages (from oaklib==0.6.4->cas-tools) (0.3.3)\r\n",
      "Requirement already satisfied: sssom<0.5.0,>=0.4.4 in /Users/ub2/Library/Caches/pypoetry/virtualenvs/cas-tools-h60LJ6k2-py3.9/lib/python3.9/site-packages (from oaklib==0.6.4->cas-tools) (0.4.11)\r\n",
      "Requirement already satisfied: tenacity<9.0.0,>=8.2.3 in /Users/ub2/Library/Caches/pypoetry/virtualenvs/cas-tools-h60LJ6k2-py3.9/lib/python3.9/site-packages (from oaklib==0.6.4->cas-tools) (8.5.0)\r\n",
      "Requirement already satisfied: et-xmlfile in /Users/ub2/Library/Caches/pypoetry/virtualenvs/cas-tools-h60LJ6k2-py3.9/lib/python3.9/site-packages (from openpyxl==3.1.2->cas-tools) (2.0.0)\r\n",
      "Requirement already satisfied: pytz>=2020.1 in /Users/ub2/Library/Caches/pypoetry/virtualenvs/cas-tools-h60LJ6k2-py3.9/lib/python3.9/site-packages (from pandas==2.2.1->cas-tools) (2024.2)\r\n",
      "Requirement already satisfied: tzdata>=2022.7 in /Users/ub2/Library/Caches/pypoetry/virtualenvs/cas-tools-h60LJ6k2-py3.9/lib/python3.9/site-packages (from pandas==2.2.1->cas-tools) (2024.2)\r\n",
      "Requirement already satisfied: six>=1.5 in /Users/ub2/Library/Caches/pypoetry/virtualenvs/cas-tools-h60LJ6k2-py3.9/lib/python3.9/site-packages (from python-dateutil==2.9.0->cas-tools) (1.17.0)\r\n",
      "Requirement already satisfied: pyparsing<4,>=2.1.0 in /Users/ub2/Library/Caches/pypoetry/virtualenvs/cas-tools-h60LJ6k2-py3.9/lib/python3.9/site-packages (from rdflib==7.0.0->cas-tools) (3.2.1)\r\n"
     ]
    },
    {
     "name": "stdout",
     "output_type": "stream",
     "text": [
      "Requirement already satisfied: charset-normalizer<4,>=2 in /Users/ub2/Library/Caches/pypoetry/virtualenvs/cas-tools-h60LJ6k2-py3.9/lib/python3.9/site-packages (from requests==2.32.3->cas-tools) (3.4.1)\n",
      "Requirement already satisfied: idna<4,>=2.5 in /Users/ub2/Library/Caches/pypoetry/virtualenvs/cas-tools-h60LJ6k2-py3.9/lib/python3.9/site-packages (from requests==2.32.3->cas-tools) (3.10)\n",
      "Requirement already satisfied: certifi>=2017.4.17 in /Users/ub2/Library/Caches/pypoetry/virtualenvs/cas-tools-h60LJ6k2-py3.9/lib/python3.9/site-packages (from requests==2.32.3->cas-tools) (2024.12.14)\n",
      "Requirement already satisfied: ruamel.yaml.clib>=0.2.7 in /Users/ub2/Library/Caches/pypoetry/virtualenvs/cas-tools-h60LJ6k2-py3.9/lib/python3.9/site-packages (from ruamel-yaml==0.18.6->cas-tools) (0.2.12)\n",
      "Requirement already satisfied: click-default-group<2.0.0,>=1.2.4 in /Users/ub2/Library/Caches/pypoetry/virtualenvs/cas-tools-h60LJ6k2-py3.9/lib/python3.9/site-packages (from schema-automator==0.5.1->cas-tools) (1.2.4)\n",
      "Requirement already satisfied: click-log>=0.4.0 in /Users/ub2/Library/Caches/pypoetry/virtualenvs/cas-tools-h60LJ6k2-py3.9/lib/python3.9/site-packages (from schema-automator==0.5.1->cas-tools) (0.4.0)\n",
      "Requirement already satisfied: duckdb<0.11.0,>=0.10.1 in /Users/ub2/Library/Caches/pypoetry/virtualenvs/cas-tools-h60LJ6k2-py3.9/lib/python3.9/site-packages (from schema-automator==0.5.1->cas-tools) (0.10.3)\n",
      "Requirement already satisfied: inflect>=6.0.0 in /Users/ub2/Library/Caches/pypoetry/virtualenvs/cas-tools-h60LJ6k2-py3.9/lib/python3.9/site-packages (from schema-automator==0.5.1->cas-tools) (7.5.0)\n",
      "Requirement already satisfied: jsonpatch>=1.32 in /Users/ub2/Library/Caches/pypoetry/virtualenvs/cas-tools-h60LJ6k2-py3.9/lib/python3.9/site-packages (from schema-automator==0.5.1->cas-tools) (1.33)\n",
      "Requirement already satisfied: mkdocs>=1.2.3 in /Users/ub2/Library/Caches/pypoetry/virtualenvs/cas-tools-h60LJ6k2-py3.9/lib/python3.9/site-packages (from schema-automator==0.5.1->cas-tools) (1.6.1)\n",
      "Requirement already satisfied: pandera>=0.12.0 in /Users/ub2/Library/Caches/pypoetry/virtualenvs/cas-tools-h60LJ6k2-py3.9/lib/python3.9/site-packages (from schema-automator==0.5.1->cas-tools) (0.22.1)\n",
      "Requirement already satisfied: quantulum3>=0.7.9 in /Users/ub2/Library/Caches/pypoetry/virtualenvs/cas-tools-h60LJ6k2-py3.9/lib/python3.9/site-packages (from schema-automator==0.5.1->cas-tools) (0.9.2)\n",
      "Requirement already satisfied: schemasheets>=0.1.24 in /Users/ub2/Library/Caches/pypoetry/virtualenvs/cas-tools-h60LJ6k2-py3.9/lib/python3.9/site-packages (from schema-automator==0.5.1->cas-tools) (0.3.1)\n",
      "Requirement already satisfied: strsimpy>=0.2.1 in /Users/ub2/Library/Caches/pypoetry/virtualenvs/cas-tools-h60LJ6k2-py3.9/lib/python3.9/site-packages (from schema-automator==0.5.1->cas-tools) (0.2.1)\n",
      "Requirement already satisfied: tomlkit>=0.11.4 in /Users/ub2/Library/Caches/pypoetry/virtualenvs/cas-tools-h60LJ6k2-py3.9/lib/python3.9/site-packages (from schema-automator==0.5.1->cas-tools) (0.13.2)\n",
      "Requirement already satisfied: xmltodict<0.14.0,>=0.13.0 in /Users/ub2/Library/Caches/pypoetry/virtualenvs/cas-tools-h60LJ6k2-py3.9/lib/python3.9/site-packages (from schema-automator==0.5.1->cas-tools) (0.13.0)\n",
      "Requirement already satisfied: dacite<2.0.0,>=1.8.1 in /Users/ub2/Library/Caches/pypoetry/virtualenvs/cas-tools-h60LJ6k2-py3.9/lib/python3.9/site-packages (from cas-linkml<0.0.15,>=0.0.14->cas-tools) (1.8.1)\n",
      "Requirement already satisfied: importlib-metadata>3.6 in /Users/ub2/Library/Caches/pypoetry/virtualenvs/cas-tools-h60LJ6k2-py3.9/lib/python3.9/site-packages (from class-resolver>=0.4.2->oaklib==0.6.4->cas-tools) (8.5.0)\n",
      "Requirement already satisfied: eval-type-backport in /Users/ub2/Library/Caches/pypoetry/virtualenvs/cas-tools-h60LJ6k2-py3.9/lib/python3.9/site-packages (from curies>=0.6.6->oaklib==0.6.4->cas-tools) (0.2.2)\n",
      "Requirement already satisfied: pytrie in /Users/ub2/Library/Caches/pypoetry/virtualenvs/cas-tools-h60LJ6k2-py3.9/lib/python3.9/site-packages (from curies>=0.6.6->oaklib==0.6.4->cas-tools) (0.4.0)\n",
      "Requirement already satisfied: lxml in /Users/ub2/Library/Caches/pypoetry/virtualenvs/cas-tools-h60LJ6k2-py3.9/lib/python3.9/site-packages (from eutils>=0.6.0->oaklib==0.6.4->cas-tools) (5.3.0)\n",
      "Requirement already satisfied: bcp47 in /Users/ub2/Library/Caches/pypoetry/virtualenvs/cas-tools-h60LJ6k2-py3.9/lib/python3.9/site-packages (from funowl>=0.2.0->oaklib==0.6.4->cas-tools) (0.1.0)\n",
      "Requirement already satisfied: jsonasobj in /Users/ub2/Library/Caches/pypoetry/virtualenvs/cas-tools-h60LJ6k2-py3.9/lib/python3.9/site-packages (from funowl>=0.2.0->oaklib==0.6.4->cas-tools) (1.3.1)\n",
      "Requirement already satisfied: rdflib-shim in /Users/ub2/Library/Caches/pypoetry/virtualenvs/cas-tools-h60LJ6k2-py3.9/lib/python3.9/site-packages (from funowl>=0.2.0->oaklib==0.6.4->cas-tools) (1.0.3)\n",
      "Requirement already satisfied: rfc3987 in /Users/ub2/Library/Caches/pypoetry/virtualenvs/cas-tools-h60LJ6k2-py3.9/lib/python3.9/site-packages (from funowl>=0.2.0->oaklib==0.6.4->cas-tools) (1.3.8)\n",
      "Requirement already satisfied: more_itertools>=8.5.0 in /Users/ub2/Library/Caches/pypoetry/virtualenvs/cas-tools-h60LJ6k2-py3.9/lib/python3.9/site-packages (from inflect>=6.0.0->schema-automator==0.5.1->cas-tools) (10.6.0)\n",
      "Requirement already satisfied: typeguard>=4.0.1 in /Users/ub2/Library/Caches/pypoetry/virtualenvs/cas-tools-h60LJ6k2-py3.9/lib/python3.9/site-packages (from inflect>=6.0.0->schema-automator==0.5.1->cas-tools) (4.4.1)\n",
      "Requirement already satisfied: MarkupSafe>=2.0 in /Users/ub2/Library/Caches/pypoetry/virtualenvs/cas-tools-h60LJ6k2-py3.9/lib/python3.9/site-packages (from jinja2>=3.1.0->linkml==1.7.8->cas-tools) (3.0.2)\n",
      "Requirement already satisfied: jsonpointer>=1.9 in /Users/ub2/Library/Caches/pypoetry/virtualenvs/cas-tools-h60LJ6k2-py3.9/lib/python3.9/site-packages (from jsonpatch>=1.32->schema-automator==0.5.1->cas-tools) (3.0.0)\n",
      "Requirement already satisfied: fqdn in /Users/ub2/Library/Caches/pypoetry/virtualenvs/cas-tools-h60LJ6k2-py3.9/lib/python3.9/site-packages (from jsonschema[format]>=4.0.0->linkml==1.7.8->cas-tools) (1.5.1)\n",
      "Requirement already satisfied: isoduration in /Users/ub2/Library/Caches/pypoetry/virtualenvs/cas-tools-h60LJ6k2-py3.9/lib/python3.9/site-packages (from jsonschema[format]>=4.0.0->linkml==1.7.8->cas-tools) (20.11.0)\n",
      "Requirement already satisfied: rfc3339-validator in /Users/ub2/Library/Caches/pypoetry/virtualenvs/cas-tools-h60LJ6k2-py3.9/lib/python3.9/site-packages (from jsonschema[format]>=4.0.0->linkml==1.7.8->cas-tools) (0.1.4)\n",
      "Requirement already satisfied: uri-template in /Users/ub2/Library/Caches/pypoetry/virtualenvs/cas-tools-h60LJ6k2-py3.9/lib/python3.9/site-packages (from jsonschema[format]>=4.0.0->linkml==1.7.8->cas-tools) (1.3.0)\n",
      "Requirement already satisfied: webcolors>=1.11 in /Users/ub2/Library/Caches/pypoetry/virtualenvs/cas-tools-h60LJ6k2-py3.9/lib/python3.9/site-packages (from jsonschema[format]>=4.0.0->linkml==1.7.8->cas-tools) (24.11.1)\n",
      "Requirement already satisfied: lark>=1.1.2 in /Users/ub2/Library/Caches/pypoetry/virtualenvs/cas-tools-h60LJ6k2-py3.9/lib/python3.9/site-packages (from kgcl-schema<0.7.0,>=0.6.8->oaklib==0.6.4->cas-tools) (1.2.2)\n",
      "Requirement already satisfied: deprecated in /Users/ub2/Library/Caches/pypoetry/virtualenvs/cas-tools-h60LJ6k2-py3.9/lib/python3.9/site-packages (from linkml-runtime>=1.7.4->linkml==1.7.8->cas-tools) (1.2.15)\n",
      "Requirement already satisfied: json-flattener>=0.1.9 in /Users/ub2/Library/Caches/pypoetry/virtualenvs/cas-tools-h60LJ6k2-py3.9/lib/python3.9/site-packages (from linkml-runtime>=1.7.4->linkml==1.7.8->cas-tools) (0.1.9)\n",
      "Requirement already satisfied: ghp-import>=1.0 in /Users/ub2/Library/Caches/pypoetry/virtualenvs/cas-tools-h60LJ6k2-py3.9/lib/python3.9/site-packages (from mkdocs>=1.2.3->schema-automator==0.5.1->cas-tools) (2.1.0)\n",
      "Requirement already satisfied: markdown>=3.3.6 in /Users/ub2/Library/Caches/pypoetry/virtualenvs/cas-tools-h60LJ6k2-py3.9/lib/python3.9/site-packages (from mkdocs>=1.2.3->schema-automator==0.5.1->cas-tools) (3.7)\n",
      "Requirement already satisfied: mergedeep>=1.3.4 in /Users/ub2/Library/Caches/pypoetry/virtualenvs/cas-tools-h60LJ6k2-py3.9/lib/python3.9/site-packages (from mkdocs>=1.2.3->schema-automator==0.5.1->cas-tools) (1.3.4)\n",
      "Requirement already satisfied: mkdocs-get-deps>=0.2.0 in /Users/ub2/Library/Caches/pypoetry/virtualenvs/cas-tools-h60LJ6k2-py3.9/lib/python3.9/site-packages (from mkdocs>=1.2.3->schema-automator==0.5.1->cas-tools) (0.2.0)\n",
      "Requirement already satisfied: pathspec>=0.11.1 in /Users/ub2/Library/Caches/pypoetry/virtualenvs/cas-tools-h60LJ6k2-py3.9/lib/python3.9/site-packages (from mkdocs>=1.2.3->schema-automator==0.5.1->cas-tools) (0.12.1)\n",
      "Requirement already satisfied: pyyaml-env-tag>=0.1 in /Users/ub2/Library/Caches/pypoetry/virtualenvs/cas-tools-h60LJ6k2-py3.9/lib/python3.9/site-packages (from mkdocs>=1.2.3->schema-automator==0.5.1->cas-tools) (0.1)\n",
      "Requirement already satisfied: ijson in /Users/ub2/Library/Caches/pypoetry/virtualenvs/cas-tools-h60LJ6k2-py3.9/lib/python3.9/site-packages (from ndex2<4.0.0,>=3.5.0->oaklib==0.6.4->cas-tools) (3.3.0)\n",
      "Requirement already satisfied: requests-toolbelt in /Users/ub2/Library/Caches/pypoetry/virtualenvs/cas-tools-h60LJ6k2-py3.9/lib/python3.9/site-packages (from ndex2<4.0.0,>=3.5.0->oaklib==0.6.4->cas-tools) (1.0.0)\n",
      "Requirement already satisfied: more-click in /Users/ub2/Library/Caches/pypoetry/virtualenvs/cas-tools-h60LJ6k2-py3.9/lib/python3.9/site-packages (from ols-client>=0.1.1->oaklib==0.6.4->cas-tools) (0.1.2)\n",
      "Requirement already satisfied: pytest-logging<2016.0.0,>=2015.11.4 in /Users/ub2/Library/Caches/pypoetry/virtualenvs/cas-tools-h60LJ6k2-py3.9/lib/python3.9/site-packages (from prefixcommons>=0.1.7->linkml==1.7.8->cas-tools) (2015.11.4)\n",
      "Requirement already satisfied: chardet~=5.0 in /Users/ub2/Library/Caches/pypoetry/virtualenvs/cas-tools-h60LJ6k2-py3.9/lib/python3.9/site-packages (from pronto>=2.5.0->oaklib==0.6.4->cas-tools) (5.2.0)\n",
      "Requirement already satisfied: fastobo~=0.12.2 in /Users/ub2/Library/Caches/pypoetry/virtualenvs/cas-tools-h60LJ6k2-py3.9/lib/python3.9/site-packages (from pronto>=2.5.0->oaklib==0.6.4->cas-tools) (0.12.3)\n",
      "Requirement already satisfied: annotated-types>=0.6.0 in /Users/ub2/Library/Caches/pypoetry/virtualenvs/cas-tools-h60LJ6k2-py3.9/lib/python3.9/site-packages (from pydantic<3.0.0,>=1.0.0->linkml==1.7.8->cas-tools) (0.7.0)\n",
      "Requirement already satisfied: pydantic-core==2.27.2 in /Users/ub2/Library/Caches/pypoetry/virtualenvs/cas-tools-h60LJ6k2-py3.9/lib/python3.9/site-packages (from pydantic<3.0.0,>=1.0.0->linkml==1.7.8->cas-tools) (2.27.2)\n",
      "Requirement already satisfied: cfgraph>=0.2.1 in /Users/ub2/Library/Caches/pypoetry/virtualenvs/cas-tools-h60LJ6k2-py3.9/lib/python3.9/site-packages (from pyshex>=0.7.20->linkml==1.7.8->cas-tools) (0.2.1)\n",
      "Requirement already satisfied: shexjsg>=0.8.2 in /Users/ub2/Library/Caches/pypoetry/virtualenvs/cas-tools-h60LJ6k2-py3.9/lib/python3.9/site-packages (from pyshex>=0.7.20->linkml==1.7.8->cas-tools) (0.8.2)\n",
      "Requirement already satisfied: sparqlslurper>=0.5.1 in /Users/ub2/Library/Caches/pypoetry/virtualenvs/cas-tools-h60LJ6k2-py3.9/lib/python3.9/site-packages (from pyshex>=0.7.20->linkml==1.7.8->cas-tools) (0.5.1)\n",
      "Requirement already satisfied: setuptools in /Users/ub2/Library/Caches/pypoetry/virtualenvs/cas-tools-h60LJ6k2-py3.9/lib/python3.9/site-packages (from pysolr<4.0.0,>=3.9.0->oaklib==0.6.4->cas-tools) (75.8.0)\n",
      "Requirement already satisfied: tqdm in /Users/ub2/Library/Caches/pypoetry/virtualenvs/cas-tools-h60LJ6k2-py3.9/lib/python3.9/site-packages (from pystow>=0.5.0->oaklib==0.6.4->cas-tools) (4.67.1)\n",
      "Requirement already satisfied: num2words in /Users/ub2/Library/Caches/pypoetry/virtualenvs/cas-tools-h60LJ6k2-py3.9/lib/python3.9/site-packages (from quantulum3>=0.7.9->schema-automator==0.5.1->cas-tools) (0.5.14)\n",
      "Requirement already satisfied: cattrs>=22.2 in /Users/ub2/Library/Caches/pypoetry/virtualenvs/cas-tools-h60LJ6k2-py3.9/lib/python3.9/site-packages (from requests-cache<2.0.0,>=1.0.1->oaklib==0.6.4->cas-tools) (24.1.2)\n",
      "Requirement already satisfied: platformdirs>=2.5 in /Users/ub2/Library/Caches/pypoetry/virtualenvs/cas-tools-h60LJ6k2-py3.9/lib/python3.9/site-packages (from requests-cache<2.0.0,>=1.0.1->oaklib==0.6.4->cas-tools) (4.3.6)\n",
      "Requirement already satisfied: url-normalize>=1.4 in /Users/ub2/Library/Caches/pypoetry/virtualenvs/cas-tools-h60LJ6k2-py3.9/lib/python3.9/site-packages (from requests-cache<2.0.0,>=1.0.1->oaklib==0.6.4->cas-tools) (1.4.3)\n",
      "Requirement already satisfied: aiobotocore<3.0.0,>=2.5.4 in /Users/ub2/Library/Caches/pypoetry/virtualenvs/cas-tools-h60LJ6k2-py3.9/lib/python3.9/site-packages (from s3fs>=2021.06.1->cellxgene-census==1.15.0->cas-tools) (2.17.0)\n",
      "Requirement already satisfied: fsspec==2024.12.0.* in /Users/ub2/Library/Caches/pypoetry/virtualenvs/cas-tools-h60LJ6k2-py3.9/lib/python3.9/site-packages (from s3fs>=2021.06.1->cellxgene-census==1.15.0->cas-tools) (2024.12.0)\n",
      "Requirement already satisfied: aiohttp!=4.0.0a0,!=4.0.0a1 in /Users/ub2/Library/Caches/pypoetry/virtualenvs/cas-tools-h60LJ6k2-py3.9/lib/python3.9/site-packages (from s3fs>=2021.06.1->cellxgene-census==1.15.0->cas-tools) (3.11.11)\n"
     ]
    },
    {
     "name": "stdout",
     "output_type": "stream",
     "text": [
      "Requirement already satisfied: bioregistry>0.5.0 in /Users/ub2/Library/Caches/pypoetry/virtualenvs/cas-tools-h60LJ6k2-py3.9/lib/python3.9/site-packages (from schemasheets>=0.1.24->schema-automator==0.5.1->cas-tools) (0.11.33)\n",
      "Requirement already satisfied: ontodev-cogs<0.4.0,>=0.3.3 in /Users/ub2/Library/Caches/pypoetry/virtualenvs/cas-tools-h60LJ6k2-py3.9/lib/python3.9/site-packages (from schemasheets>=0.1.24->schema-automator==0.5.1->cas-tools) (0.3.3)\n",
      "Requirement already satisfied: SQLAlchemy-Utils<0.39.0,>=0.38.2 in /Users/ub2/Library/Caches/pypoetry/virtualenvs/cas-tools-h60LJ6k2-py3.9/lib/python3.9/site-packages (from semsql>=0.3.1->oaklib==0.6.4->cas-tools) (0.38.3)\n",
      "Requirement already satisfied: deprecation<3.0.0,>=2.1.0 in /Users/ub2/Library/Caches/pypoetry/virtualenvs/cas-tools-h60LJ6k2-py3.9/lib/python3.9/site-packages (from sssom<0.5.0,>=0.4.4->oaklib==0.6.4->cas-tools) (2.1.0)\n",
      "Requirement already satisfied: importlib-resources<7.0.0,>=6.1.1 in /Users/ub2/Library/Caches/pypoetry/virtualenvs/cas-tools-h60LJ6k2-py3.9/lib/python3.9/site-packages (from sssom<0.5.0,>=0.4.4->oaklib==0.6.4->cas-tools) (6.5.2)\n",
      "Requirement already satisfied: pansql>=0.0.1 in /Users/ub2/Library/Caches/pypoetry/virtualenvs/cas-tools-h60LJ6k2-py3.9/lib/python3.9/site-packages (from pansql[pansql]>=0.0.1->sssom<0.5.0,>=0.4.4->oaklib==0.6.4->cas-tools) (0.0.1)\n",
      "Requirement already satisfied: sssom-schema<0.16.0,>=0.15.2 in /Users/ub2/Library/Caches/pypoetry/virtualenvs/cas-tools-h60LJ6k2-py3.9/lib/python3.9/site-packages (from sssom<0.5.0,>=0.4.4->oaklib==0.6.4->cas-tools) (0.15.2)\n",
      "Requirement already satisfied: validators>=0.20.0 in /Users/ub2/Library/Caches/pypoetry/virtualenvs/cas-tools-h60LJ6k2-py3.9/lib/python3.9/site-packages (from sssom<0.5.0,>=0.4.4->oaklib==0.6.4->cas-tools) (0.34.0)\n",
      "Requirement already satisfied: numba>=0.58.0 in /Users/ub2/Library/Caches/pypoetry/virtualenvs/cas-tools-h60LJ6k2-py3.9/lib/python3.9/site-packages (from tiledbsoma~=1.11.4->cellxgene-census==1.15.0->cas-tools) (0.60.0)\n",
      "Requirement already satisfied: pyarrow-hotfix in /Users/ub2/Library/Caches/pypoetry/virtualenvs/cas-tools-h60LJ6k2-py3.9/lib/python3.9/site-packages (from tiledbsoma~=1.11.4->cellxgene-census==1.15.0->cas-tools) (0.6)\n",
      "Requirement already satisfied: scanpy>=1.9.2 in /Users/ub2/Library/Caches/pypoetry/virtualenvs/cas-tools-h60LJ6k2-py3.9/lib/python3.9/site-packages (from tiledbsoma~=1.11.4->cellxgene-census==1.15.0->cas-tools) (1.10.3)\n",
      "Requirement already satisfied: somacore==1.0.11 in /Users/ub2/Library/Caches/pypoetry/virtualenvs/cas-tools-h60LJ6k2-py3.9/lib/python3.9/site-packages (from tiledbsoma~=1.11.4->cellxgene-census==1.15.0->cas-tools) (1.0.11)\n",
      "Requirement already satisfied: tiledb~=0.29.0 in /Users/ub2/Library/Caches/pypoetry/virtualenvs/cas-tools-h60LJ6k2-py3.9/lib/python3.9/site-packages (from tiledbsoma~=1.11.4->cellxgene-census==1.15.0->cas-tools) (0.29.1)\n",
      "Requirement already satisfied: pyarrow<13.0.0,>=9.0.0 in /Users/ub2/Library/Caches/pypoetry/virtualenvs/cas-tools-h60LJ6k2-py3.9/lib/python3.9/site-packages (from tiledbsoma~=1.11.4->cellxgene-census==1.15.0->cas-tools) (12.0.1)\n",
      "Requirement already satisfied: mypy-extensions>=0.3.0 in /Users/ub2/Library/Caches/pypoetry/virtualenvs/cas-tools-h60LJ6k2-py3.9/lib/python3.9/site-packages (from typing-inspect<1,>=0.4.0->dataclasses-json==0.6.4->cas-tools) (1.0.0)\n",
      "Requirement already satisfied: jsonpath-ng in /Users/ub2/Library/Caches/pypoetry/virtualenvs/cas-tools-h60LJ6k2-py3.9/lib/python3.9/site-packages (from linkml-dataops->linkml==1.7.8->cas-tools) (1.7.0)\n",
      "Requirement already satisfied: aioitertools<1.0.0,>=0.5.1 in /Users/ub2/Library/Caches/pypoetry/virtualenvs/cas-tools-h60LJ6k2-py3.9/lib/python3.9/site-packages (from aiobotocore<3.0.0,>=2.5.4->s3fs>=2021.06.1->cellxgene-census==1.15.0->cas-tools) (0.12.0)\n",
      "Requirement already satisfied: botocore<1.35.94,>=1.35.74 in /Users/ub2/Library/Caches/pypoetry/virtualenvs/cas-tools-h60LJ6k2-py3.9/lib/python3.9/site-packages (from aiobotocore<3.0.0,>=2.5.4->s3fs>=2021.06.1->cellxgene-census==1.15.0->cas-tools) (1.35.93)\n",
      "Requirement already satisfied: jmespath<2.0.0,>=0.7.1 in /Users/ub2/Library/Caches/pypoetry/virtualenvs/cas-tools-h60LJ6k2-py3.9/lib/python3.9/site-packages (from aiobotocore<3.0.0,>=2.5.4->s3fs>=2021.06.1->cellxgene-census==1.15.0->cas-tools) (1.0.1)\n",
      "Requirement already satisfied: multidict<7.0.0,>=6.0.0 in /Users/ub2/Library/Caches/pypoetry/virtualenvs/cas-tools-h60LJ6k2-py3.9/lib/python3.9/site-packages (from aiobotocore<3.0.0,>=2.5.4->s3fs>=2021.06.1->cellxgene-census==1.15.0->cas-tools) (6.1.0)\n",
      "Requirement already satisfied: wrapt<2.0.0,>=1.10.10 in /Users/ub2/Library/Caches/pypoetry/virtualenvs/cas-tools-h60LJ6k2-py3.9/lib/python3.9/site-packages (from aiobotocore<3.0.0,>=2.5.4->s3fs>=2021.06.1->cellxgene-census==1.15.0->cas-tools) (1.17.2)\n",
      "Requirement already satisfied: aiohappyeyeballs>=2.3.0 in /Users/ub2/Library/Caches/pypoetry/virtualenvs/cas-tools-h60LJ6k2-py3.9/lib/python3.9/site-packages (from aiohttp!=4.0.0a0,!=4.0.0a1->s3fs>=2021.06.1->cellxgene-census==1.15.0->cas-tools) (2.4.4)\n",
      "Requirement already satisfied: aiosignal>=1.1.2 in /Users/ub2/Library/Caches/pypoetry/virtualenvs/cas-tools-h60LJ6k2-py3.9/lib/python3.9/site-packages (from aiohttp!=4.0.0a0,!=4.0.0a1->s3fs>=2021.06.1->cellxgene-census==1.15.0->cas-tools) (1.3.2)\n",
      "Requirement already satisfied: async-timeout<6.0,>=4.0 in /Users/ub2/Library/Caches/pypoetry/virtualenvs/cas-tools-h60LJ6k2-py3.9/lib/python3.9/site-packages (from aiohttp!=4.0.0a0,!=4.0.0a1->s3fs>=2021.06.1->cellxgene-census==1.15.0->cas-tools) (5.0.1)\n",
      "Requirement already satisfied: frozenlist>=1.1.1 in /Users/ub2/Library/Caches/pypoetry/virtualenvs/cas-tools-h60LJ6k2-py3.9/lib/python3.9/site-packages (from aiohttp!=4.0.0a0,!=4.0.0a1->s3fs>=2021.06.1->cellxgene-census==1.15.0->cas-tools) (1.5.0)\n",
      "Requirement already satisfied: propcache>=0.2.0 in /Users/ub2/Library/Caches/pypoetry/virtualenvs/cas-tools-h60LJ6k2-py3.9/lib/python3.9/site-packages (from aiohttp!=4.0.0a0,!=4.0.0a1->s3fs>=2021.06.1->cellxgene-census==1.15.0->cas-tools) (0.2.1)\n",
      "Requirement already satisfied: yarl<2.0,>=1.17.0 in /Users/ub2/Library/Caches/pypoetry/virtualenvs/cas-tools-h60LJ6k2-py3.9/lib/python3.9/site-packages (from aiohttp!=4.0.0a0,!=4.0.0a1->s3fs>=2021.06.1->cellxgene-census==1.15.0->cas-tools) (1.18.3)\n",
      "Requirement already satisfied: zipp>=3.20 in /Users/ub2/Library/Caches/pypoetry/virtualenvs/cas-tools-h60LJ6k2-py3.9/lib/python3.9/site-packages (from importlib-metadata>3.6->class-resolver>=0.4.2->oaklib==0.6.4->cas-tools) (3.21.0)\n",
      "\u001b[33mWARNING: networkx 3.2.1 does not provide the extra 'networkx'\u001b[0m\u001b[33m\n",
      "\u001b[0mRequirement already satisfied: llvmlite<0.44,>=0.43.0dev0 in /Users/ub2/Library/Caches/pypoetry/virtualenvs/cas-tools-h60LJ6k2-py3.9/lib/python3.9/site-packages (from numba>=0.58.0->tiledbsoma~=1.11.4->cellxgene-census==1.15.0->cas-tools) (0.43.0)\n",
      "Requirement already satisfied: daff in /Users/ub2/Library/Caches/pypoetry/virtualenvs/cas-tools-h60LJ6k2-py3.9/lib/python3.9/site-packages (from ontodev-cogs<0.4.0,>=0.3.3->schemasheets>=0.1.24->schema-automator==0.5.1->cas-tools) (1.3.46)\n",
      "Requirement already satisfied: google in /Users/ub2/Library/Caches/pypoetry/virtualenvs/cas-tools-h60LJ6k2-py3.9/lib/python3.9/site-packages (from ontodev-cogs<0.4.0,>=0.3.3->schemasheets>=0.1.24->schema-automator==0.5.1->cas-tools) (3.0.0)\n",
      "Requirement already satisfied: google-api-python-client in /Users/ub2/Library/Caches/pypoetry/virtualenvs/cas-tools-h60LJ6k2-py3.9/lib/python3.9/site-packages (from ontodev-cogs<0.4.0,>=0.3.3->schemasheets>=0.1.24->schema-automator==0.5.1->cas-tools) (2.159.0)\n",
      "Requirement already satisfied: gspread in /Users/ub2/Library/Caches/pypoetry/virtualenvs/cas-tools-h60LJ6k2-py3.9/lib/python3.9/site-packages (from ontodev-cogs<0.4.0,>=0.3.3->schemasheets>=0.1.24->schema-automator==0.5.1->cas-tools) (6.1.4)\n",
      "Requirement already satisfied: gspread-formatting in /Users/ub2/Library/Caches/pypoetry/virtualenvs/cas-tools-h60LJ6k2-py3.9/lib/python3.9/site-packages (from ontodev-cogs<0.4.0,>=0.3.3->schemasheets>=0.1.24->schema-automator==0.5.1->cas-tools) (1.2.0)\n",
      "Requirement already satisfied: tabulate in /Users/ub2/Library/Caches/pypoetry/virtualenvs/cas-tools-h60LJ6k2-py3.9/lib/python3.9/site-packages (from ontodev-cogs<0.4.0,>=0.3.3->schemasheets>=0.1.24->schema-automator==0.5.1->cas-tools) (0.9.0)\n",
      "Requirement already satisfied: termcolor in /Users/ub2/Library/Caches/pypoetry/virtualenvs/cas-tools-h60LJ6k2-py3.9/lib/python3.9/site-packages (from ontodev-cogs<0.4.0,>=0.3.3->schemasheets>=0.1.24->schema-automator==0.5.1->cas-tools) (2.5.0)\n",
      "\u001b[33mWARNING: pansql 0.0.1 does not provide the extra 'pansql'\u001b[0m\u001b[33m\n",
      "\u001b[0mRequirement already satisfied: pytest>=2.8.1 in /Users/ub2/Library/Caches/pypoetry/virtualenvs/cas-tools-h60LJ6k2-py3.9/lib/python3.9/site-packages (from pytest-logging<2016.0.0,>=2015.11.4->prefixcommons>=0.1.7->linkml==1.7.8->cas-tools) (8.3.4)\n",
      "Requirement already satisfied: get-annotations in /Users/ub2/Library/Caches/pypoetry/virtualenvs/cas-tools-h60LJ6k2-py3.9/lib/python3.9/site-packages (from scanpy>=1.9.2->tiledbsoma~=1.11.4->cellxgene-census==1.15.0->cas-tools) (0.1.2)\n",
      "Requirement already satisfied: joblib in /Users/ub2/Library/Caches/pypoetry/virtualenvs/cas-tools-h60LJ6k2-py3.9/lib/python3.9/site-packages (from scanpy>=1.9.2->tiledbsoma~=1.11.4->cellxgene-census==1.15.0->cas-tools) (1.4.2)\n",
      "Requirement already satisfied: legacy-api-wrap>=1.4 in /Users/ub2/Library/Caches/pypoetry/virtualenvs/cas-tools-h60LJ6k2-py3.9/lib/python3.9/site-packages (from scanpy>=1.9.2->tiledbsoma~=1.11.4->cellxgene-census==1.15.0->cas-tools) (1.4.1)\n",
      "Requirement already satisfied: matplotlib>=3.6 in /Users/ub2/Library/Caches/pypoetry/virtualenvs/cas-tools-h60LJ6k2-py3.9/lib/python3.9/site-packages (from scanpy>=1.9.2->tiledbsoma~=1.11.4->cellxgene-census==1.15.0->cas-tools) (3.9.4)\n",
      "Requirement already satisfied: patsy in /Users/ub2/Library/Caches/pypoetry/virtualenvs/cas-tools-h60LJ6k2-py3.9/lib/python3.9/site-packages (from scanpy>=1.9.2->tiledbsoma~=1.11.4->cellxgene-census==1.15.0->cas-tools) (1.0.1)\n",
      "Requirement already satisfied: pynndescent>=0.5 in /Users/ub2/Library/Caches/pypoetry/virtualenvs/cas-tools-h60LJ6k2-py3.9/lib/python3.9/site-packages (from scanpy>=1.9.2->tiledbsoma~=1.11.4->cellxgene-census==1.15.0->cas-tools) (0.5.13)\n",
      "Requirement already satisfied: scikit-learn>=0.24 in /Users/ub2/Library/Caches/pypoetry/virtualenvs/cas-tools-h60LJ6k2-py3.9/lib/python3.9/site-packages (from scanpy>=1.9.2->tiledbsoma~=1.11.4->cellxgene-census==1.15.0->cas-tools) (1.6.1)\n",
      "Requirement already satisfied: seaborn>=0.13 in /Users/ub2/Library/Caches/pypoetry/virtualenvs/cas-tools-h60LJ6k2-py3.9/lib/python3.9/site-packages (from scanpy>=1.9.2->tiledbsoma~=1.11.4->cellxgene-census==1.15.0->cas-tools) (0.13.2)\n",
      "Requirement already satisfied: session-info in /Users/ub2/Library/Caches/pypoetry/virtualenvs/cas-tools-h60LJ6k2-py3.9/lib/python3.9/site-packages (from scanpy>=1.9.2->tiledbsoma~=1.11.4->cellxgene-census==1.15.0->cas-tools) (1.0.0)\n",
      "Requirement already satisfied: statsmodels>=0.13 in /Users/ub2/Library/Caches/pypoetry/virtualenvs/cas-tools-h60LJ6k2-py3.9/lib/python3.9/site-packages (from scanpy>=1.9.2->tiledbsoma~=1.11.4->cellxgene-census==1.15.0->cas-tools) (0.14.4)\n",
      "Requirement already satisfied: umap-learn!=0.5.0,>=0.5 in /Users/ub2/Library/Caches/pypoetry/virtualenvs/cas-tools-h60LJ6k2-py3.9/lib/python3.9/site-packages (from scanpy>=1.9.2->tiledbsoma~=1.11.4->cellxgene-census==1.15.0->cas-tools) (0.5.7)\n"
     ]
    },
    {
     "name": "stdout",
     "output_type": "stream",
     "text": [
      "Requirement already satisfied: arrow>=0.15.0 in /Users/ub2/Library/Caches/pypoetry/virtualenvs/cas-tools-h60LJ6k2-py3.9/lib/python3.9/site-packages (from isoduration->jsonschema[format]>=4.0.0->linkml==1.7.8->cas-tools) (1.3.0)\n",
      "Requirement already satisfied: ply in /Users/ub2/Library/Caches/pypoetry/virtualenvs/cas-tools-h60LJ6k2-py3.9/lib/python3.9/site-packages (from jsonpath-ng->linkml-dataops->linkml==1.7.8->cas-tools) (3.11)\n",
      "Requirement already satisfied: docopt>=0.6.2 in /Users/ub2/Library/Caches/pypoetry/virtualenvs/cas-tools-h60LJ6k2-py3.9/lib/python3.9/site-packages (from num2words->quantulum3>=0.7.9->schema-automator==0.5.1->cas-tools) (0.6.2)\n",
      "Requirement already satisfied: sortedcontainers in /Users/ub2/Library/Caches/pypoetry/virtualenvs/cas-tools-h60LJ6k2-py3.9/lib/python3.9/site-packages (from pytrie->curies>=0.6.6->oaklib==0.6.4->cas-tools) (2.4.0)\n",
      "Requirement already satisfied: rdflib-jsonld==0.6.1 in /Users/ub2/Library/Caches/pypoetry/virtualenvs/cas-tools-h60LJ6k2-py3.9/lib/python3.9/site-packages (from rdflib-shim->funowl>=0.2.0->oaklib==0.6.4->cas-tools) (0.6.1)\n",
      "\u001b[33mWARNING: scipy 1.13.1 does not provide the extra 'scipy'\u001b[0m\u001b[33m\n",
      "\u001b[0mRequirement already satisfied: types-python-dateutil>=2.8.10 in /Users/ub2/Library/Caches/pypoetry/virtualenvs/cas-tools-h60LJ6k2-py3.9/lib/python3.9/site-packages (from arrow>=0.15.0->isoduration->jsonschema[format]>=4.0.0->linkml==1.7.8->cas-tools) (2.9.0.20241206)\n",
      "Requirement already satisfied: contourpy>=1.0.1 in /Users/ub2/Library/Caches/pypoetry/virtualenvs/cas-tools-h60LJ6k2-py3.9/lib/python3.9/site-packages (from matplotlib>=3.6->scanpy>=1.9.2->tiledbsoma~=1.11.4->cellxgene-census==1.15.0->cas-tools) (1.3.0)\n",
      "Requirement already satisfied: cycler>=0.10 in /Users/ub2/Library/Caches/pypoetry/virtualenvs/cas-tools-h60LJ6k2-py3.9/lib/python3.9/site-packages (from matplotlib>=3.6->scanpy>=1.9.2->tiledbsoma~=1.11.4->cellxgene-census==1.15.0->cas-tools) (0.12.1)\n",
      "Requirement already satisfied: fonttools>=4.22.0 in /Users/ub2/Library/Caches/pypoetry/virtualenvs/cas-tools-h60LJ6k2-py3.9/lib/python3.9/site-packages (from matplotlib>=3.6->scanpy>=1.9.2->tiledbsoma~=1.11.4->cellxgene-census==1.15.0->cas-tools) (4.55.3)\n",
      "Requirement already satisfied: kiwisolver>=1.3.1 in /Users/ub2/Library/Caches/pypoetry/virtualenvs/cas-tools-h60LJ6k2-py3.9/lib/python3.9/site-packages (from matplotlib>=3.6->scanpy>=1.9.2->tiledbsoma~=1.11.4->cellxgene-census==1.15.0->cas-tools) (1.4.7)\n",
      "Requirement already satisfied: pillow>=8 in /Users/ub2/Library/Caches/pypoetry/virtualenvs/cas-tools-h60LJ6k2-py3.9/lib/python3.9/site-packages (from matplotlib>=3.6->scanpy>=1.9.2->tiledbsoma~=1.11.4->cellxgene-census==1.15.0->cas-tools) (11.1.0)\n",
      "Requirement already satisfied: iniconfig in /Users/ub2/Library/Caches/pypoetry/virtualenvs/cas-tools-h60LJ6k2-py3.9/lib/python3.9/site-packages (from pytest>=2.8.1->pytest-logging<2016.0.0,>=2015.11.4->prefixcommons>=0.1.7->linkml==1.7.8->cas-tools) (2.0.0)\n",
      "Requirement already satisfied: pluggy<2,>=1.5 in /Users/ub2/Library/Caches/pypoetry/virtualenvs/cas-tools-h60LJ6k2-py3.9/lib/python3.9/site-packages (from pytest>=2.8.1->pytest-logging<2016.0.0,>=2015.11.4->prefixcommons>=0.1.7->linkml==1.7.8->cas-tools) (1.5.0)\n",
      "Requirement already satisfied: tomli>=1 in /Users/ub2/Library/Caches/pypoetry/virtualenvs/cas-tools-h60LJ6k2-py3.9/lib/python3.9/site-packages (from pytest>=2.8.1->pytest-logging<2016.0.0,>=2015.11.4->prefixcommons>=0.1.7->linkml==1.7.8->cas-tools) (2.2.1)\n",
      "Requirement already satisfied: threadpoolctl>=3.1.0 in /Users/ub2/Library/Caches/pypoetry/virtualenvs/cas-tools-h60LJ6k2-py3.9/lib/python3.9/site-packages (from scikit-learn>=0.24->scanpy>=1.9.2->tiledbsoma~=1.11.4->cellxgene-census==1.15.0->cas-tools) (3.5.0)\n",
      "Requirement already satisfied: beautifulsoup4 in /Users/ub2/Library/Caches/pypoetry/virtualenvs/cas-tools-h60LJ6k2-py3.9/lib/python3.9/site-packages (from google->ontodev-cogs<0.4.0,>=0.3.3->schemasheets>=0.1.24->schema-automator==0.5.1->cas-tools) (4.12.3)\n",
      "Requirement already satisfied: httplib2<1.dev0,>=0.19.0 in /Users/ub2/Library/Caches/pypoetry/virtualenvs/cas-tools-h60LJ6k2-py3.9/lib/python3.9/site-packages (from google-api-python-client->ontodev-cogs<0.4.0,>=0.3.3->schemasheets>=0.1.24->schema-automator==0.5.1->cas-tools) (0.22.0)\n",
      "Requirement already satisfied: google-auth!=2.24.0,!=2.25.0,<3.0.0.dev0,>=1.32.0 in /Users/ub2/Library/Caches/pypoetry/virtualenvs/cas-tools-h60LJ6k2-py3.9/lib/python3.9/site-packages (from google-api-python-client->ontodev-cogs<0.4.0,>=0.3.3->schemasheets>=0.1.24->schema-automator==0.5.1->cas-tools) (2.37.0)\n",
      "Requirement already satisfied: google-auth-httplib2<1.0.0,>=0.2.0 in /Users/ub2/Library/Caches/pypoetry/virtualenvs/cas-tools-h60LJ6k2-py3.9/lib/python3.9/site-packages (from google-api-python-client->ontodev-cogs<0.4.0,>=0.3.3->schemasheets>=0.1.24->schema-automator==0.5.1->cas-tools) (0.2.0)\n",
      "Requirement already satisfied: google-api-core!=2.0.*,!=2.1.*,!=2.2.*,!=2.3.0,<3.0.0.dev0,>=1.31.5 in /Users/ub2/Library/Caches/pypoetry/virtualenvs/cas-tools-h60LJ6k2-py3.9/lib/python3.9/site-packages (from google-api-python-client->ontodev-cogs<0.4.0,>=0.3.3->schemasheets>=0.1.24->schema-automator==0.5.1->cas-tools) (2.24.0)\n",
      "Requirement already satisfied: uritemplate<5,>=3.0.1 in /Users/ub2/Library/Caches/pypoetry/virtualenvs/cas-tools-h60LJ6k2-py3.9/lib/python3.9/site-packages (from google-api-python-client->ontodev-cogs<0.4.0,>=0.3.3->schemasheets>=0.1.24->schema-automator==0.5.1->cas-tools) (4.1.1)\n",
      "Requirement already satisfied: google-auth-oauthlib>=0.4.1 in /Users/ub2/Library/Caches/pypoetry/virtualenvs/cas-tools-h60LJ6k2-py3.9/lib/python3.9/site-packages (from gspread->ontodev-cogs<0.4.0,>=0.3.3->schemasheets>=0.1.24->schema-automator==0.5.1->cas-tools) (1.2.1)\n",
      "Requirement already satisfied: stdlib-list in /Users/ub2/Library/Caches/pypoetry/virtualenvs/cas-tools-h60LJ6k2-py3.9/lib/python3.9/site-packages (from session-info->scanpy>=1.9.2->tiledbsoma~=1.11.4->cellxgene-census==1.15.0->cas-tools) (0.11.0)\n",
      "Requirement already satisfied: googleapis-common-protos<2.0.dev0,>=1.56.2 in /Users/ub2/Library/Caches/pypoetry/virtualenvs/cas-tools-h60LJ6k2-py3.9/lib/python3.9/site-packages (from google-api-core!=2.0.*,!=2.1.*,!=2.2.*,!=2.3.0,<3.0.0.dev0,>=1.31.5->google-api-python-client->ontodev-cogs<0.4.0,>=0.3.3->schemasheets>=0.1.24->schema-automator==0.5.1->cas-tools) (1.66.0)\n",
      "Requirement already satisfied: protobuf!=3.20.0,!=3.20.1,!=4.21.0,!=4.21.1,!=4.21.2,!=4.21.3,!=4.21.4,!=4.21.5,<6.0.0.dev0,>=3.19.5 in /Users/ub2/Library/Caches/pypoetry/virtualenvs/cas-tools-h60LJ6k2-py3.9/lib/python3.9/site-packages (from google-api-core!=2.0.*,!=2.1.*,!=2.2.*,!=2.3.0,<3.0.0.dev0,>=1.31.5->google-api-python-client->ontodev-cogs<0.4.0,>=0.3.3->schemasheets>=0.1.24->schema-automator==0.5.1->cas-tools) (5.29.3)\n",
      "Requirement already satisfied: proto-plus<2.0.0dev,>=1.22.3 in /Users/ub2/Library/Caches/pypoetry/virtualenvs/cas-tools-h60LJ6k2-py3.9/lib/python3.9/site-packages (from google-api-core!=2.0.*,!=2.1.*,!=2.2.*,!=2.3.0,<3.0.0.dev0,>=1.31.5->google-api-python-client->ontodev-cogs<0.4.0,>=0.3.3->schemasheets>=0.1.24->schema-automator==0.5.1->cas-tools) (1.25.0)\n",
      "Requirement already satisfied: cachetools<6.0,>=2.0.0 in /Users/ub2/Library/Caches/pypoetry/virtualenvs/cas-tools-h60LJ6k2-py3.9/lib/python3.9/site-packages (from google-auth!=2.24.0,!=2.25.0,<3.0.0.dev0,>=1.32.0->google-api-python-client->ontodev-cogs<0.4.0,>=0.3.3->schemasheets>=0.1.24->schema-automator==0.5.1->cas-tools) (5.5.0)\n",
      "Requirement already satisfied: pyasn1-modules>=0.2.1 in /Users/ub2/Library/Caches/pypoetry/virtualenvs/cas-tools-h60LJ6k2-py3.9/lib/python3.9/site-packages (from google-auth!=2.24.0,!=2.25.0,<3.0.0.dev0,>=1.32.0->google-api-python-client->ontodev-cogs<0.4.0,>=0.3.3->schemasheets>=0.1.24->schema-automator==0.5.1->cas-tools) (0.4.1)\n",
      "Requirement already satisfied: rsa<5,>=3.1.4 in /Users/ub2/Library/Caches/pypoetry/virtualenvs/cas-tools-h60LJ6k2-py3.9/lib/python3.9/site-packages (from google-auth!=2.24.0,!=2.25.0,<3.0.0.dev0,>=1.32.0->google-api-python-client->ontodev-cogs<0.4.0,>=0.3.3->schemasheets>=0.1.24->schema-automator==0.5.1->cas-tools) (4.9)\n",
      "Requirement already satisfied: requests-oauthlib>=0.7.0 in /Users/ub2/Library/Caches/pypoetry/virtualenvs/cas-tools-h60LJ6k2-py3.9/lib/python3.9/site-packages (from google-auth-oauthlib>=0.4.1->gspread->ontodev-cogs<0.4.0,>=0.3.3->schemasheets>=0.1.24->schema-automator==0.5.1->cas-tools) (2.0.0)\n"
     ]
    },
    {
     "name": "stdout",
     "output_type": "stream",
     "text": [
      "Requirement already satisfied: soupsieve>1.2 in /Users/ub2/Library/Caches/pypoetry/virtualenvs/cas-tools-h60LJ6k2-py3.9/lib/python3.9/site-packages (from beautifulsoup4->google->ontodev-cogs<0.4.0,>=0.3.3->schemasheets>=0.1.24->schema-automator==0.5.1->cas-tools) (2.6)\n",
      "Requirement already satisfied: pyasn1<0.7.0,>=0.4.6 in /Users/ub2/Library/Caches/pypoetry/virtualenvs/cas-tools-h60LJ6k2-py3.9/lib/python3.9/site-packages (from pyasn1-modules>=0.2.1->google-auth!=2.24.0,!=2.25.0,<3.0.0.dev0,>=1.32.0->google-api-python-client->ontodev-cogs<0.4.0,>=0.3.3->schemasheets>=0.1.24->schema-automator==0.5.1->cas-tools) (0.6.1)\n",
      "Requirement already satisfied: oauthlib>=3.0.0 in /Users/ub2/Library/Caches/pypoetry/virtualenvs/cas-tools-h60LJ6k2-py3.9/lib/python3.9/site-packages (from requests-oauthlib>=0.7.0->google-auth-oauthlib>=0.4.1->gspread->ontodev-cogs<0.4.0,>=0.3.3->schemasheets>=0.1.24->schema-automator==0.5.1->cas-tools) (3.2.2)\n",
      "Downloading cas_tools-1.1.1-py3-none-any.whl (63 kB)\n",
      "\u001b[2K   \u001b[90m━━━━━━━━━━━━━━━━━━━━━━━━━━━━━━━━━━━━━━━━\u001b[0m \u001b[32m63.7/63.7 kB\u001b[0m \u001b[31m5.3 MB/s\u001b[0m eta \u001b[36m0:00:00\u001b[0m\n",
      "\u001b[?25hInstalling collected packages: cas-tools\n",
      "  Attempting uninstall: cas-tools\n",
      "    Found existing installation: cas-tools 1.1.0\n",
      "    Uninstalling cas-tools-1.1.0:\n",
      "      Successfully uninstalled cas-tools-1.1.0\n",
      "Successfully installed cas-tools-1.1.1\n",
      "\n",
      "\u001b[1m[\u001b[0m\u001b[34;49mnotice\u001b[0m\u001b[1;39;49m]\u001b[0m\u001b[39;49m A new release of pip is available: \u001b[0m\u001b[31;49m24.1\u001b[0m\u001b[39;49m -> \u001b[0m\u001b[32;49m25.0\u001b[0m\n",
      "\u001b[1m[\u001b[0m\u001b[34;49mnotice\u001b[0m\u001b[1;39;49m]\u001b[0m\u001b[39;49m To update, run: \u001b[0m\u001b[32;49mpip install --upgrade pip\u001b[0m\n"
     ]
    }
   ],
   "source": [
    "!pip install pandas\n",
    "!pip install anndata\n",
    "!pip install --upgrade cas-tools --no-cache"
   ]
  },
  {
   "cell_type": "code",
   "execution_count": 3,
   "id": "889c35d8",
   "metadata": {},
   "outputs": [
    {
     "name": "stdout",
     "output_type": "stream",
     "text": [
      "  % Total    % Received % Xferd  Average Speed   Time    Time     Time  Current\n",
      "                                 Dload  Upload   Total   Spent    Left  Speed\n",
      "  0     0    0     0    0     0      0      0 --:--:-- --:--:-- --:--:--     0\n"
     ]
    }
   ],
   "source": [
    "!curl -L -z data/cc14c567-83a5-4e24-974e-9dfdb14dee5a.h5ad -o data/cc14c567-83a5-4e24-974e-9dfdb14dee5a.h5ad https://datasets.cellxgene.cziscience.com/cc14c567-83a5-4e24-974e-9dfdb14dee5a.h5ad"
   ]
  },
  {
   "cell_type": "code",
   "execution_count": 11,
   "id": "bc870167",
   "metadata": {},
   "outputs": [
    {
     "name": "stdout",
     "output_type": "stream",
     "text": [
      "usage: cas anndata2cas --anndata path/to/anndata.h5ad --labelsets item1 item2 item3 --output path/to/output_file.json\r\n",
      "\r\n",
      "Converts an anndata to CAS JSON.\r\n",
      "\r\n",
      "optional arguments:\r\n",
      "  -h, --help            show this help message and exit\r\n",
      "  --anndata ANNDATA     Path to the AnnData file.\r\n",
      "  --labelsets LABELSETS [LABELSETS ...]\r\n",
      "                        List of labelsets, which are names of observation\r\n",
      "                        (obs) fields used to record author cell type names.\r\n",
      "                        The labelsets should be provided in order, starting\r\n",
      "                        from rank 0 (leaf nodes) and ascending to higher\r\n",
      "                        ranks.\r\n",
      "  --output OUTPUT       Output CAS file name (default: output.json).\r\n",
      "  --hierarchy           Include hierarchy in the output.\r\n"
     ]
    }
   ],
   "source": [
    "!cas anndata2cas --help"
   ]
  },
  {
   "cell_type": "code",
   "execution_count": 12,
   "id": "fed5e32d",
   "metadata": {},
   "outputs": [],
   "source": [
    "!cas anndata2cas --anndata data/cc14c567-83a5-4e24-974e-9dfdb14dee5a.h5ad --labelsets CrossArea_cluster CrossArea_subclass --output data/jorstad_mge_cas.json --hierarchy"
   ]
  },
  {
   "cell_type": "code",
   "execution_count": 13,
   "id": "38f8b4d3",
   "metadata": {},
   "outputs": [],
   "source": [
    "import json\n",
    "with open(\"data/jorstad_mge_cas.json\", \"r\") as f:\n",
    "    cas = json.load(f)"
   ]
  },
  {
   "cell_type": "code",
   "execution_count": 14,
   "id": "d0374d26",
   "metadata": {},
   "outputs": [
    {
     "data": {
      "text/plain": [
       "[('CrossArea_cluster', 'Pvalb_8', 'Pvalb'),\n",
       " ('CrossArea_cluster', 'Sst_29', 'Sst'),\n",
       " ('CrossArea_cluster', 'Sst_14', 'Sst'),\n",
       " ('CrossArea_cluster', 'Sst_1', 'Sst'),\n",
       " ('CrossArea_cluster', 'Sst_5', 'Sst'),\n",
       " ('CrossArea_cluster', 'Sst_8', 'Sst'),\n",
       " ('CrossArea_cluster', 'Sst_17', 'Sst'),\n",
       " ('CrossArea_cluster', 'Sst_4', 'Sst'),\n",
       " ('CrossArea_cluster', 'Sst_36', 'Sst'),\n",
       " ('CrossArea_cluster', 'Sst_2', 'Sst'),\n",
       " ('CrossArea_cluster', 'Sst_23', 'Sst'),\n",
       " ('CrossArea_cluster', 'Sst_7', 'Sst'),\n",
       " ('CrossArea_cluster', 'Sst_25', 'Sst'),\n",
       " ('CrossArea_cluster', 'Sst_33', 'Sst'),\n",
       " ('CrossArea_cluster', 'Sst_22', 'Sst'),\n",
       " ('CrossArea_cluster', 'Sst_37', 'Sst'),\n",
       " ('CrossArea_cluster', 'Pvalb_5', 'Pvalb'),\n",
       " ('CrossArea_cluster', 'Pvalb_4', 'Pvalb'),\n",
       " ('CrossArea_cluster', 'Sst_28', 'Sst'),\n",
       " ('CrossArea_cluster', 'Pvalb_3', 'Pvalb'),\n",
       " ('CrossArea_cluster', 'Sst Chodl_1', 'Sst Chodl'),\n",
       " ('CrossArea_cluster', 'Pvalb_2', 'Pvalb'),\n",
       " ('CrossArea_cluster', 'Pvalb_1', 'Pvalb'),\n",
       " ('CrossArea_cluster', 'Sst_19', 'Sst'),\n",
       " ('CrossArea_cluster', 'Sst_9', 'Sst'),\n",
       " ('CrossArea_cluster', 'Sst_3', 'Sst'),\n",
       " ('CrossArea_cluster', 'Pvalb_6', 'Pvalb'),\n",
       " ('CrossArea_cluster', 'Sst_12', 'Sst'),\n",
       " ('CrossArea_cluster', 'Sst_35', 'Sst'),\n",
       " ('CrossArea_cluster', 'Sst_34', 'Sst'),\n",
       " ('CrossArea_cluster', 'Sst_16', 'Sst'),\n",
       " ('CrossArea_cluster', 'Sst_10', 'Sst'),\n",
       " ('CrossArea_cluster', 'Pvalb_9', 'Pvalb'),\n",
       " ('CrossArea_cluster', 'Pvalb_7', 'Pvalb'),\n",
       " ('CrossArea_cluster', 'Sst_13', 'Sst'),\n",
       " ('CrossArea_cluster', 'Sst_18', 'Sst'),\n",
       " ('CrossArea_cluster', 'Chandelier_1', 'Chandelier'),\n",
       " ('CrossArea_cluster', 'Sst_24', 'Sst'),\n",
       " ('CrossArea_cluster', 'Sst_11', 'Sst'),\n",
       " ('CrossArea_cluster', 'Sst_21', 'Sst'),\n",
       " ('CrossArea_cluster', 'Sst_20', 'Sst'),\n",
       " ('CrossArea_cluster', 'Sst_27', 'Sst'),\n",
       " ('CrossArea_cluster', 'Sst_30', 'Sst'),\n",
       " ('CrossArea_cluster', 'Sst_15', 'Sst'),\n",
       " ('CrossArea_cluster', 'Sst_32', 'Sst'),\n",
       " ('CrossArea_cluster', 'Sst_31', 'Sst'),\n",
       " ('CrossArea_cluster', 'Sst_6', 'Sst'),\n",
       " ('CrossArea_cluster', 'Sst_26', 'Sst'),\n",
       " ('CrossArea_subclass', 'Sst', '-'),\n",
       " ('CrossArea_subclass', 'Pvalb', '-'),\n",
       " ('CrossArea_subclass', 'Chandelier', '-'),\n",
       " ('CrossArea_subclass', 'Sst Chodl', '-')]"
      ]
     },
     "execution_count": 14,
     "metadata": {},
     "output_type": "execute_result"
    }
   ],
   "source": [
    "[(anno[\"labelset\"], anno[\"cell_label\"], anno.get(\"parent_cell_set_name\", \"-\")) for anno in cas[\"annotations\"]]"
   ]
  },
  {
   "cell_type": "code",
   "execution_count": 17,
   "id": "f58b3701",
   "metadata": {},
   "outputs": [
    {
     "data": {
      "text/plain": [
       "{'labelset': 'CrossArea_cluster',\n",
       " 'cell_label': 'Sst_29',\n",
       " 'cell_fullname': 'Sst_29',\n",
       " 'cell_set_accession': 'CrossArea_cluster:86abae4e65',\n",
       " 'parent_cell_set_name': 'Sst',\n",
       " 'parent_cell_set_accession': 'CrossArea_subclass:9f134d6e7b'}"
      ]
     },
     "execution_count": 17,
     "metadata": {},
     "output_type": "execute_result"
    }
   ],
   "source": [
    "{k: v for k, v in cas[\"annotations\"][1].items() if k != \"cell_ids\"}"
   ]
  },
  {
   "cell_type": "code",
   "execution_count": 21,
   "id": "0f72f354",
   "metadata": {},
   "outputs": [
    {
     "data": {
      "text/plain": [
       "{'labelset': 'CrossArea_subclass',\n",
       " 'cell_label': 'Sst',\n",
       " 'cell_fullname': 'Sst',\n",
       " 'cell_set_accession': 'CrossArea_subclass:9f134d6e7b',\n",
       " 'cell_ontology_term_id': 'CL:4023017',\n",
       " 'cell_ontology_term': 'sst GABAergic cortical interneuron'}"
      ]
     },
     "execution_count": 21,
     "metadata": {},
     "output_type": "execute_result"
    }
   ],
   "source": [
    "{k: v for k, v in cas[\"annotations\"][-4].items() if k != \"cell_ids\"}"
   ]
  },
  {
   "cell_type": "code",
   "execution_count": null,
   "id": "9d720c56",
   "metadata": {},
   "outputs": [],
   "source": []
  }
 ],
 "metadata": {
  "kernelspec": {
   "display_name": "Python 3 (ipykernel)",
   "language": "python",
   "name": "python3"
  },
  "language_info": {
   "codemirror_mode": {
    "name": "ipython",
    "version": 3
   },
   "file_extension": ".py",
   "mimetype": "text/x-python",
   "name": "python",
   "nbconvert_exporter": "python",
   "pygments_lexer": "ipython3",
   "version": "3.9.19"
  }
 },
 "nbformat": 4,
 "nbformat_minor": 5
}
